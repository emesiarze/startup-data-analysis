{
 "cells": [
  {
   "cell_type": "markdown",
   "source": [
    "# Analiza projektów kickstarter"
   ],
   "metadata": {
    "collapsed": false,
    "pycharm": {
     "name": "#%% md\n"
    }
   }
  },
  {
   "cell_type": "markdown",
   "source": [
    "## Przygotowanie bibliotek wykorzystywanych w systemie\n",
    "\n",
    "W systemie wykorzystywane są następujące biblioteki\n",
    "\n",
    "- **pandas** - odczyt, zapis i operacje na danych\n",
    "- **datetime** - operacje na datach\n",
    "- **numpy** - liczne funckje matematyczne\n",
    "- **sklearn** - funkcje wykorzytywane w analizie PCA"
   ],
   "metadata": {
    "collapsed": false,
    "pycharm": {
     "name": "#%% md\n"
    }
   }
  },
  {
   "cell_type": "code",
   "source": [
    "import pandas as pd\n",
    "from datetime import datetime\n",
    "from sklearn.preprocessing import StandardScaler\n",
    "import numpy as np"
   ],
   "metadata": {
    "collapsed": false,
    "pycharm": {
     "name": "#%%\n"
    }
   },
   "execution_count": 77,
   "outputs": []
  },
  {
   "cell_type": "markdown",
   "source": [
    "## Przygotowanie początkowych stanów systemu"
   ],
   "metadata": {
    "collapsed": false,
    "pycharm": {
     "name": "#%% md\n"
    }
   }
  },
  {
   "cell_type": "code",
   "source": [
    "# Skonfigurowanie maksymalnej liczby wyświetlanych kolumn\n",
    "pd.set_option('display.max_columns', 10)\n",
    "\n",
    "# Skonfigurowanie opcji wyświetlania\n",
    "pd.set_option('display.max_columns', 500)\n",
    "pd.set_option('display.width', 1000)\n",
    "\n",
    "# Parametry wykorzystywane przy wczytywaniu danych\n",
    "dataset_path = './data/kickstarter-projects-1-filtered.csv'\n",
    "encoding='ISO-8859-1'\n",
    "rows_number = 1000\n",
    "all_columns = ['main_category', 'currency', 'deadline', 'goal', 'launched', 'pledged', 'state', 'backers', 'country', 'usd_pledged']\n",
    "\n",
    "# Dane wykorzystywane przy przetwarzaniu danych\n",
    "features_columns = ['main_category', 'currency', 'deadline', 'goal', 'launched', 'pledged', 'backers', 'country', 'usd_pledged']\n",
    "labels_columns = ['state']"
   ],
   "metadata": {
    "collapsed": false,
    "pycharm": {
     "name": "#%%\n"
    }
   },
   "execution_count": 78,
   "outputs": []
  },
  {
   "cell_type": "markdown",
   "source": [
    "## Przygotowanie danych"
   ],
   "metadata": {
    "collapsed": false,
    "pycharm": {
     "name": "#%% md\n"
    }
   }
  },
  {
   "cell_type": "markdown",
   "source": [
    " ### Wczytanie danych"
   ],
   "metadata": {
    "collapsed": false
   }
  },
  {
   "cell_type": "code",
   "source": [
    "df = pd.read_csv(dataset_path, encoding=encoding,low_memory=False).head(rows_number).filter(all_columns, axis=1)\n",
    "print(df.head())"
   ],
   "metadata": {
    "collapsed": false,
    "pycharm": {
     "name": "#%%\n"
    }
   },
   "execution_count": 79,
   "outputs": [
    {
     "name": "stdout",
     "output_type": "stream",
     "text": [
      "  main_category currency        deadline   goal        launched pledged       state backers country usd_pledged\n",
      "0    Publishing      GBP  09-10-15 11:36   1000  11-08-15 12:12       0      failed       0      GB           0\n",
      "1  Film & Video      USD   26-02-13 0:20  45000   12-01-13 0:20     220      failed       3      US         220\n",
      "2         Music      USD   16-04-12 4:24   5000   17-03-12 3:24       1      failed       1      US           1\n",
      "3  Film & Video      USD   29-08-15 1:00  19500   04-07-15 8:35    1283    canceled      14      US        1283\n",
      "4          Food      USD  01-04-16 13:38  50000  26-02-16 13:38   52375  successful     224      US       52375\n"
     ]
    }
   ]
  },
  {
   "cell_type": "markdown",
   "source": [
    "### Konwersja danych tekstowych na dane liczbowe\n",
    "\n",
    "Aby dane mogły zostać poprawnie przetworzone w dalszych krokach przy użyciu metody PCA, dane tekstowe należy zamienić na dane liczbowe. Do tego celu można wykorzystać słowniki. Algorytm konwersji jest następujący:\n",
    "- zebrać wszystkie wartości występujące w danej kolumnie\n",
    "- przyporządkować każdej wartości kolejną liczbę naturalną rozpoczynając od jedynki."
   ],
   "metadata": {
    "collapsed": false
   }
  },
  {
   "cell_type": "markdown",
   "source": [
    "#### Metody pomocnicze"
   ],
   "metadata": {
    "collapsed": false,
    "pycharm": {
     "name": "#%% md\n"
    }
   }
  },
  {
   "cell_type": "code",
   "execution_count": 80,
   "outputs": [],
   "source": [
    "def get_all_values_from_column(df, col_name):\n",
    "    values = []\n",
    "    for i in range(0, len(df[col_name])):\n",
    "        category = df[col_name][i]\n",
    "        if category not in values:\n",
    "            values.append(category)\n",
    "\n",
    "    return values\n",
    "\n",
    "\n",
    "def create_label_number_dict(names):\n",
    "    normalized = {}\n",
    "    for i in range(0, len(names)):\n",
    "        name = names[i]\n",
    "        normalized[name] = i + 1\n",
    "\n",
    "    return normalized\n",
    "\n",
    "def map_text_to_number(df, column_name, dict):\n",
    "    mapped = pd.Series(df[column_name].map(dict), name=column_name)\n",
    "    df.update(mapped)\n",
    "\n",
    "    return df"
   ],
   "metadata": {
    "collapsed": false,
    "pycharm": {
     "name": "#%%\n"
    }
   }
  },
  {
   "cell_type": "markdown",
   "source": [
    "#### Zbieranie danych i tworzenie słowników"
   ],
   "metadata": {
    "collapsed": false,
    "pycharm": {
     "name": "#%% md\n"
    }
   }
  },
  {
   "cell_type": "code",
   "execution_count": 81,
   "outputs": [],
   "source": [
    "categories = get_all_values_from_column(df, 'main_category')\n",
    "countries = get_all_values_from_column(df, 'country')\n",
    "states = get_all_values_from_column(df, 'state')\n",
    "currencies = get_all_values_from_column(df, 'currency')\n",
    "\n",
    "categories_dict = create_label_number_dict(categories)\n",
    "countries_dict = create_label_number_dict(countries)\n",
    "states_dict = create_label_number_dict(states)\n",
    "currencies_dict = create_label_number_dict(currencies)"
   ],
   "metadata": {
    "collapsed": false,
    "pycharm": {
     "name": "#%%\n"
    }
   }
  },
  {
   "cell_type": "markdown",
   "source": [
    "#### Konwersja"
   ],
   "metadata": {
    "collapsed": false
   }
  },
  {
   "cell_type": "code",
   "execution_count": 82,
   "outputs": [],
   "source": [
    "# Map string values to number values\n",
    "df = map_text_to_number(df, 'main_category', categories_dict)\n",
    "df = map_text_to_number(df, 'country', countries_dict)\n",
    "df = map_text_to_number(df, 'state', states_dict)\n",
    "df = map_text_to_number(df, 'currency', currencies_dict)"
   ],
   "metadata": {
    "collapsed": false,
    "pycharm": {
     "name": "#%%\n"
    }
   }
  },
  {
   "cell_type": "markdown",
   "source": [
    "### Konwersja dat na dane liczbowe\n",
    "\n",
    "W przypadku dat przyjęto strategię reprezentacji ich jako **timestamp**"
   ],
   "metadata": {
    "collapsed": false
   }
  },
  {
   "cell_type": "markdown",
   "source": [
    "#### Metody pomocnicze"
   ],
   "metadata": {
    "collapsed": false
   }
  },
  {
   "cell_type": "code",
   "source": [
    "def date_to_timestamp(dt):\n",
    "    return int(datetime.strptime(dt, \"%d-%m-%y %H:%M\").timestamp())\n",
    "\n",
    "\n",
    "def map_date_to_timestamp(df, column_names):\n",
    "    for column_name in column_names:\n",
    "        mapped = pd.Series(df[column_name].map(date_to_timestamp), name=column_name)\n",
    "        df.update(mapped)\n",
    "\n",
    "    return df"
   ],
   "metadata": {
    "collapsed": false,
    "pycharm": {
     "name": "#%%\n"
    }
   },
   "execution_count": 83,
   "outputs": []
  },
  {
   "cell_type": "markdown",
   "source": [
    "#### Konwersja"
   ],
   "metadata": {
    "collapsed": false
   }
  },
  {
   "cell_type": "code",
   "execution_count": 84,
   "outputs": [],
   "source": [
    "df = map_date_to_timestamp(df, ['launched', 'deadline'])"
   ],
   "metadata": {
    "collapsed": false,
    "pycharm": {
     "name": "#%%\n"
    }
   }
  },
  {
   "cell_type": "markdown",
   "source": [
    "### Dodanie sztucznej kolumny _pledged_ratio_\n",
    "\n",
    "Kolumna ma określić jaki procent założonej sumy został zebrany"
   ],
   "metadata": {
    "collapsed": false
   }
  },
  {
   "cell_type": "code",
   "execution_count": 85,
   "outputs": [],
   "source": [
    "df['pledged_ratio'] = df['pledged'].astype(float) / df['goal'].astype(float) * 100"
   ],
   "metadata": {
    "collapsed": false,
    "pycharm": {
     "name": "#%%\n"
    }
   }
  },
  {
   "cell_type": "markdown",
   "source": [
    "### Prezentacja przetworzonych danych"
   ],
   "metadata": {
    "collapsed": false,
    "pycharm": {
     "name": "#%% md\n"
    }
   }
  },
  {
   "cell_type": "code",
   "execution_count": 86,
   "outputs": [
    {
     "name": "stdout",
     "output_type": "stream",
     "text": [
      "  main_category currency    deadline   goal    launched pledged state backers country usd_pledged  pledged_ratio\n",
      "0             1        1  1444383360   1000  1439287920       0     1       0       1           0       0.000000\n",
      "1             2        2  1361834400  45000  1357946400     220     1       3       2         220       0.488889\n",
      "2             3        2  1334543040   5000  1331951040       1     1       1       2           1       0.020000\n",
      "3             2        2  1440802800  19500  1435991700    1283     2      14       2        1283       6.579487\n",
      "4             4        2  1459510680  50000  1456490280   52375     3     224       2       52375     104.750000\n"
     ]
    }
   ],
   "source": [
    "print(df.head())"
   ],
   "metadata": {
    "collapsed": false,
    "pycharm": {
     "name": "#%%\n"
    }
   }
  },
  {
   "cell_type": "markdown",
   "source": [
    "Dla poprawności dalszych kroków można sprawdzić, czy któreś kolumny nie zawierają niepoprawnych/pustych danych"
   ],
   "metadata": {
    "collapsed": false,
    "pycharm": {
     "name": "#%% md\n"
    }
   }
  },
  {
   "cell_type": "code",
   "execution_count": 87,
   "outputs": [
    {
     "name": "stdout",
     "output_type": "stream",
     "text": [
      "\n",
      "Czy istnieją nieprawidłowe wartości w zbiorze danych: False\n",
      "\n"
     ]
    }
   ],
   "source": [
    "is_any_nan = False\n",
    "for column in all_columns:\n",
    "    is_any_nan = is_any_nan or df[column].isnull().values.any()\n",
    "\n",
    "print(f'\\nCzy istnieją nieprawidłowe wartości w zbiorze danych: {is_any_nan}\\n')"
   ],
   "metadata": {
    "collapsed": false,
    "pycharm": {
     "name": "#%%\n"
    }
   }
  },
  {
   "cell_type": "markdown",
   "source": [
    "## Wybór cech i etykiet\n",
    "\n",
    "### Cechy"
   ],
   "metadata": {
    "collapsed": false
   }
  },
  {
   "cell_type": "code",
   "execution_count": 88,
   "outputs": [
    {
     "name": "stdout",
     "output_type": "stream",
     "text": [
      "  main_category currency    deadline   goal    launched pledged backers country usd_pledged\n",
      "0             1        1  1444383360   1000  1439287920       0       0       1           0\n",
      "1             2        2  1361834400  45000  1357946400     220       3       2         220\n",
      "2             3        2  1334543040   5000  1331951040       1       1       2           1\n",
      "3             2        2  1440802800  19500  1435991700    1283      14       2        1283\n",
      "4             4        2  1459510680  50000  1456490280   52375     224       2       52375\n"
     ]
    }
   ],
   "source": [
    "features = df[features_columns]\n",
    "print(features.head())"
   ],
   "metadata": {
    "collapsed": false,
    "pycharm": {
     "name": "#%%\n"
    }
   }
  },
  {
   "cell_type": "markdown",
   "source": [
    "### Etykiety"
   ],
   "metadata": {
    "collapsed": false,
    "pycharm": {
     "name": "#%% md\n"
    }
   }
  },
  {
   "cell_type": "code",
   "execution_count": 89,
   "outputs": [
    {
     "name": "stdout",
     "output_type": "stream",
     "text": [
      "  state\n",
      "0     1\n",
      "1     1\n",
      "2     1\n",
      "3     2\n",
      "4     3\n"
     ]
    }
   ],
   "source": [
    "labels = df[labels_columns]\n",
    "print(labels.head())"
   ],
   "metadata": {
    "collapsed": false,
    "pycharm": {
     "name": "#%%\n"
    }
   }
  },
  {
   "cell_type": "markdown",
   "source": [
    "## Analiza PCA\n",
    "\n",
    "TODO: Parę słów o analizie PCA\n"
   ],
   "metadata": {
    "collapsed": false,
    "pycharm": {
     "name": "#%% md\n"
    }
   }
  },
  {
   "cell_type": "markdown",
   "source": [
    "### Przeskalowanie wartości"
   ],
   "metadata": {
    "collapsed": false
   }
  },
  {
   "cell_type": "code",
   "execution_count": 90,
   "outputs": [
    {
     "name": "stdout",
     "output_type": "stream",
     "text": [
      "[[-1.20147843 -1.0721321   0.84639537 ... -0.30152763 -0.72740458\n",
      "  -0.2185112 ]\n",
      " [-0.95587777 -0.16584968 -0.73072894 ... -0.29207604 -0.17255745\n",
      "  -0.21210636]\n",
      " [-0.71027711 -0.16584968 -1.25213912 ... -0.2983771  -0.17255745\n",
      "  -0.21848209]\n",
      " ...\n",
      " [-0.46467645 -0.16584968  0.79615679 ... -0.28892551 -0.17255745\n",
      "  -0.20511927]\n",
      " [ 0.02652487 -0.16584968  0.22130177 ... -0.2763234  -0.17255745\n",
      "  -0.21766693]\n",
      " [-1.20147843 -0.16584968  1.36455459 ... -0.28892551 -0.17255745\n",
      "  -0.21656064]]\n"
     ]
    }
   ],
   "source": [
    "scaler = StandardScaler()\n",
    "features_scaled = scaler.fit_transform(features)\n",
    "print(features_scaled)"
   ],
   "metadata": {
    "collapsed": false,
    "pycharm": {
     "name": "#%%\n"
    }
   }
  },
  {
   "cell_type": "markdown",
   "source": [
    "### Stworzenie macierzy kowariancji i wygenerowanie heatmapy"
   ],
   "metadata": {
    "collapsed": false
   }
  },
  {
   "cell_type": "code",
   "execution_count": 91,
   "outputs": [
    {
     "name": "stdout",
     "output_type": "stream",
     "text": [
      "[[ 1.001001    0.03871573  0.17445684  0.01005308  0.174253    0.04457797\n",
      "   0.06044046  0.01781315  0.0589271 ]\n",
      " [ 0.03871573  1.001001    0.20919081  0.06197439  0.20836352  0.18194163\n",
      "  -0.02415798  0.92721733 -0.01396047]\n",
      " [ 0.17445684  0.20919081  1.001001    0.08238838  1.00080423  0.07650704\n",
      "   0.04975464  0.20862437  0.03672685]\n",
      " [ 0.01005308  0.06197439  0.08238838  1.001001    0.07894365  0.09065705\n",
      "   0.00672139  0.07039577  0.02561071]\n",
      " [ 0.174253    0.20836352  1.00080423  0.07894365  1.001001    0.0762661\n",
      "   0.04957644  0.20783757  0.0365563 ]\n",
      " [ 0.04457797  0.18194163  0.07650704  0.09065705  0.0762661   1.001001\n",
      "   0.5921328   0.18633586  0.73798222]\n",
      " [ 0.06044046 -0.02415798  0.04975464  0.00672139  0.04957644  0.5921328\n",
      "   1.001001   -0.02028535  0.7078132 ]\n",
      " [ 0.01781315  0.92721733  0.20862437  0.07039577  0.20783757  0.18633586\n",
      "  -0.02028535  1.001001   -0.01605096]\n",
      " [ 0.0589271  -0.01396047  0.03672685  0.02561071  0.0365563   0.73798222\n",
      "   0.7078132  -0.01605096  1.001001  ]]\n"
     ]
    },
    {
     "data": {
      "text/plain": "<AxesSubplot:>"
     },
     "execution_count": 91,
     "metadata": {},
     "output_type": "execute_result"
    },
    {
     "data": {
      "text/plain": "<Figure size 432x288 with 2 Axes>",
      "image/png": "[encoded data removed]"
     },
     "metadata": {
      "needs_background": "light"
     },
     "output_type": "display_data"
    }
   ],
   "source": [
    "import seaborn as sns\n",
    "covariance_matrix = np.cov(features_scaled.T)\n",
    "print(covariance_matrix)\n",
    "sns.heatmap(covariance_matrix)"
   ],
   "metadata": {
    "collapsed": false,
    "pycharm": {
     "name": "#%%\n"
    }
   }
  },
  {
   "cell_type": "markdown",
   "source": [
    "Z heatmapy wynika korelacja następujących kolumn:\n",
    "\n",
    "\n",
    "| Kolumna 1 | Kolumna 2 |\n",
    "|:---------:|:---------:|\n",
    "|     7     |     1     |\n",
    "|     4     |     2     |\n",
    "|     5     |     8     |\n",
    "|     6     |     8     |"
   ],
   "metadata": {
    "collapsed": false
   }
  },
  {
   "cell_type": "markdown",
   "source": [
    "### Wartości i wektory Eigena"
   ],
   "metadata": {
    "collapsed": false
   }
  },
  {
   "cell_type": "code",
   "source": [
    "eigen_values, eigen_vectors = np.linalg.eig(covariance_matrix)\n",
    "print(eigen_values)"
   ],
   "metadata": {
    "collapsed": false,
    "pycharm": {
     "name": "#%%\n"
    }
   },
   "execution_count": 92,
   "outputs": [
    {
     "name": "stdout",
     "output_type": "stream",
     "text": [
      "[2.60515918e+00 2.20874293e+00 1.59521658e+00 9.32653145e-01\n",
      " 9.91431312e-01 3.83638343e-01 2.18558680e-01 7.34183867e-02\n",
      " 1.90445917e-04]\n"
     ]
    }
   ]
  }
 ],
 "metadata": {
  "kernelspec": {
   "display_name": "Python 3",
   "language": "python",
   "name": "python3"
  },
  "language_info": {
   "codemirror_mode": {
    "name": "ipython",
    "version": 2
   },
   "file_extension": ".py",
   "mimetype": "text/x-python",
   "name": "python",
   "nbconvert_exporter": "python",
   "pygments_lexer": "ipython2",
   "version": "2.7.6"
  }
 },
 "nbformat": 4,
 "nbformat_minor": 0
}