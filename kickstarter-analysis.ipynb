{
 "cells": [
  {
   "cell_type": "markdown",
   "source": [
    "# Analiza projektów kickstarter"
   ],
   "metadata": {
    "collapsed": false,
    "pycharm": {
     "name": "#%% md\n"
    }
   }
  },
  {
   "cell_type": "markdown",
   "source": [
    "## Cel projektu\n",
    "\n",
    "Celem projektu jest przeprowadzenie analizy danych w celu stworzenia i porównania różnych klasyfikatorów. Zadaniem klasyfikatorów będzie określenie na podstawie danych wejściowych czy projekt się powiedzie, czy nie.\n",
    "\n",
    "## Opis danych\n",
    "\n",
    "Dane będące przedmiotem analizy niniejszego projektu pochodzą z repozytorium kaggle [kaggle.com/kemical/kickstarter-projects](www.kaggle.com/kemical/kickstarter-projects) i reprezentuja zbiór projektów z serwisu kickstarter.\n",
    "\n",
    "Zbiór cechuje się następującymi kolumnami:\n",
    "- ID --- identyfikator w serwisie kickstarter,\n",
    "- name --- nazwa projektu,\n",
    "- category --- podkategoria,\n",
    "- main_category --- główna kategoria,\n",
    "- currency --- waluta, w której przeprowadza się zbiórkę,\n",
    "- goal --- kwota docelowa,\n",
    "- launched --- data uruchomienia zbiórki,\n",
    "- deadline --- data zakończenia zbiórki,\n",
    "- pledged --- kwota zebrana przez wspierających,\n",
    "- state --- aktualny status projektu,\n",
    "- backers --- ilość osób wspierających,\n",
    "- country --- kraj, z którego wywodził się projekt,\n",
    "- usd_pledged --- zebrana kwota przedstawiona w USD."
   ],
   "metadata": {
    "collapsed": false
   }
  },
  {
   "cell_type": "markdown",
   "source": [
    "## Przygotowanie bibliotek wykorzystywanych w systemie\n",
    "\n",
    "W systemie wykorzystywane są następujące biblioteki:\n",
    "- **pandas** --- odczyt, zapis i operacje na danych,\n",
    "- **datetime** --- operacje na datach,\n",
    "- **sklearn** --- funkcje wykorzystywane w analizie danych,\n",
    "- **math**, **numpy** --- liczne funkcje matematyczne,\n",
    "- **seaborn** --- graficzna reprezentacja danych,\n",
    "- **random** --- generowanie liczb losowych,\n",
    "- **matplotlib** --- wykresy,\n",
    "- **scipy** --- metody statystyczne."
   ],
   "metadata": {
    "collapsed": false
   }
  },
  {
   "cell_type": "code",
   "source": [
    "import pandas as pd\n",
    "from datetime import datetime\n",
    "from sklearn.preprocessing import StandardScaler, QuantileTransformer\n",
    "from sklearn.model_selection import train_test_split\n",
    "from sklearn.decomposition import PCA\n",
    "from sklearn.metrics import classification_report, ConfusionMatrixDisplay\n",
    "import math\n",
    "import numpy as np\n",
    "import seaborn as sns\n",
    "import random as rand\n",
    "import matplotlib.pyplot as plt"
   ],
   "metadata": {
    "collapsed": false,
    "pycharm": {
     "name": "#%%\n"
    }
   },
   "execution_count": 229,
   "outputs": []
  },
  {
   "cell_type": "markdown",
   "source": [
    "## Konfiguracja systemu\n",
    "\n",
    "Poniższa sekcja zawiera ustawienia dla poszczególnych bibliotek. Są to konfiguracje sposobu wyświetlania danych dla DataFrame oraz kodowania używanego przy wczytywaniu danych z pliku."
   ],
   "metadata": {
    "collapsed": false,
    "pycharm": {
     "name": "#%% md\n"
    }
   }
  },
  {
   "cell_type": "code",
   "source": [
    "# Skonfigurowanie opcji wyświetlania\n",
    "pd.set_option('display.max_columns', 500)\n",
    "pd.set_option('display.width', 1000)\n",
    "\n",
    "default_figsize = (13, 9)\n",
    "plt.rcParams[\"figure.figsize\"] = default_figsize\n",
    "\n",
    "# Parametry wykorzystywane przy wczytywaniu danych\n",
    "encoding='ISO-8859-1'"
   ],
   "metadata": {
    "collapsed": false,
    "pycharm": {
     "name": "#%%\n"
    }
   },
   "execution_count": 152,
   "outputs": []
  },
  {
   "cell_type": "markdown",
   "source": [
    "## Przygotowanie danych\n",
    "\n",
    "Na początku należało dokonać wstępnej selekcji kolumn. Wyboru dokonano na podstawie posiadanej wiedzy oraz własnych przekonań co do użyteczności danej kolumny w dalszej analizie. Tym sposobem odrzucono następujące kolumny:\n",
    "- ID --- identyfikator jest jedynie informacją pozwalającą na operowanie na danych w pewnym systemie. Można by rozważać taki scenariusz, w którym identyfikator świadczy o tym, kiedy projekt został utworzony, jednak do tego może posłużyć bardziej odpowiednia kolumna **launched**,\n",
    "- category --- ponieważ ta kolumna była szczegółową daną tekstową, prawdopodobnie niewiele znaczyłaby dla algorytmów ją przetwarzających. Aby uzyskać wymierne korzyści z wykorzystania tej kolumny, należałoby skorzystać z przetwarzania języka naturalnego.\n",
    "- usd_pledged --- konwersja do wspólnej waluty byłaby mile widziana, jednak ta kolumna dotyczyła tylko kwoty zebranej, a nie kwoty docelowej.\n",
    "\n",
    "### Wczytanie danych"
   ],
   "metadata": {
    "collapsed": false,
    "pycharm": {
     "name": "#%% md\n"
    }
   }
  },
  {
   "cell_type": "code",
   "source": [
    "dataset_path = './data/kickstarter-projects-filtered.csv'\n",
    "rows_number = 1000\n",
    "all_csv_columns = ['main_category', 'currency', 'deadline', 'goal', 'launched', 'pledged', 'state', 'backers', 'country']\n",
    "df = pd.read_csv(\n",
    "    dataset_path,\n",
    "    encoding=encoding,\n",
    "    low_memory=False\n",
    "    ).head(rows_number)\\\n",
    "    .filter(all_csv_columns, axis=1)\n",
    "\n",
    "print(df.head())"
   ],
   "metadata": {
    "collapsed": false,
    "pycharm": {
     "name": "#%%\n"
    }
   },
   "execution_count": 153,
   "outputs": [
    {
     "name": "stdout",
     "output_type": "stream",
     "text": [
      "  main_category currency        deadline     goal        launched  pledged       state  backers country\n",
      "0    Publishing      GBP  09-10-15 11:36   1000.0  11-08-15 12:12      0.0      failed        0      GB\n",
      "1  Film & Video      USD   26-02-13 0:20  45000.0   12-01-13 0:20    220.0      failed        3      US\n",
      "2         Music      USD   16-04-12 4:24   5000.0   17-03-12 3:24      1.0      failed        1      US\n",
      "3          Food      USD  01-04-16 13:38  50000.0  26-02-16 13:38  52375.0  successful      224      US\n",
      "4          Food      USD  21-12-14 18:30   1000.0  01-12-14 18:30   1205.0  successful       16      US\n"
     ]
    }
   ]
  },
  {
   "cell_type": "markdown",
   "source": [
    "### Konwersja danych tekstowych na dane liczbowe\n",
    "\n",
    "Aby dane mogły zostać poprawnie przetworzone w dalszych krokach, dane tekstowe należy zamienić na dane liczbowe. Do tego celu można wykorzystać słowniki. Algorytm konwersji jest następujący:\n",
    "- zebrać wszystkie wartości występujące w danej kolumnie\n",
    "- przyporządkować każdej wartości kolejną liczbę naturalną rozpoczynając od zera (lub jedynki)."
   ],
   "metadata": {
    "collapsed": false,
    "pycharm": {
     "name": "#%% md\n"
    }
   }
  },
  {
   "cell_type": "code",
   "source": [
    "def get_all_values_from_column(df, col_name):\n",
    "    values = []\n",
    "    for i in df[col_name].index:\n",
    "        category = df[col_name][i]\n",
    "        if category not in values:\n",
    "            values.append(category)\n",
    "\n",
    "    return values\n",
    "\n",
    "\n",
    "def create_label_number_dict(names, start_from_zero = True):\n",
    "    normalized = {}\n",
    "    zero_margin = 1 - int(start_from_zero)\n",
    "    for i in range(0, len(names)):\n",
    "        name = names[i]\n",
    "        normalized[name] = i + zero_margin\n",
    "\n",
    "    return normalized\n",
    "\n",
    "def map_text_to_number(df, column_name, dict):\n",
    "    mapped = pd.Series(df[column_name].map(dict), name=column_name)\n",
    "    df.update(mapped)\n",
    "\n",
    "    return df"
   ],
   "metadata": {
    "collapsed": false,
    "pycharm": {
     "name": "#%%\n"
    }
   },
   "execution_count": 154,
   "outputs": []
  },
  {
   "cell_type": "code",
   "execution_count": 155,
   "outputs": [],
   "source": [
    "categories = get_all_values_from_column(df, 'main_category')\n",
    "countries = get_all_values_from_column(df, 'country')\n",
    "states = get_all_values_from_column(df, 'state')\n",
    "currencies = get_all_values_from_column(df, 'currency')\n",
    "\n",
    "categories_dict = create_label_number_dict(categories)\n",
    "countries_dict = create_label_number_dict(countries)\n",
    "states_dict = { 'failed': 0, 'successful': 1 }\n",
    "currencies_dict = create_label_number_dict(currencies)\n",
    "\n",
    "df = map_text_to_number(df, 'main_category', categories_dict)\n",
    "df = map_text_to_number(df, 'country', countries_dict)\n",
    "df = map_text_to_number(df, 'state', states_dict)\n",
    "df = map_text_to_number(df, 'currency', currencies_dict)"
   ],
   "metadata": {
    "collapsed": false,
    "pycharm": {
     "name": "#%%\n"
    }
   }
  },
  {
   "cell_type": "markdown",
   "source": [
    "### Konwersja dat na dane liczbowe\n",
    "\n",
    "W przypadku dat, dla uproszczenia przyjęto strategię reprezentacji ich jako roku."
   ],
   "metadata": {
    "collapsed": false,
    "pycharm": {
     "name": "#%% md\n"
    }
   }
  },
  {
   "cell_type": "code",
   "source": [
    "def date_to_timestamp(dt):\n",
    "    return datetime.strptime(dt, \"%d-%m-%y %H:%M\").year\n",
    "\n",
    "\n",
    "def map_date_to_timestamp(df, column_names):\n",
    "    for column_name in column_names:\n",
    "        mapped = pd.Series(df[column_name].map(date_to_timestamp), name=column_name)\n",
    "        df.update(mapped)\n",
    "\n",
    "    return df\n",
    "\n",
    "df = map_date_to_timestamp(df, ['launched', 'deadline'])"
   ],
   "metadata": {
    "collapsed": false,
    "pycharm": {
     "name": "#%%\n"
    }
   },
   "execution_count": 156,
   "outputs": []
  },
  {
   "cell_type": "markdown",
   "source": [
    "### Normalizacja i usuwanie wartości ekstremalnych\n",
    "\n",
    "W analizie danych jest idealnie, kiedy dane mają rozkład normalny. Niestety dane skrajnie odbiegające od pozostałych powodują, że taka analiza jest dużo cięższa niż w przypadku spójnych danych. To samo dotyczy danych niepełnych, tj. takich, których nie wszystkie kolumny mają wartości. Takich danych należy się pozbyć lub zamienić je wartościami średnimi.\n",
    "\n",
    "W przypadku wartości skrajnych są one usuwane. Krok ten został dodany w następstwie problemów wynikających z wyżej opisanego zjawiska. Taki stan rzeczy na etapie szukania przedziałów dla reguł rozmytych nie pozwalał na dalszą analizę. Po wprowadzeniu zmian w zbiorze danych, wcześniejsze problemy zostały zażegnane."
   ],
   "metadata": {
    "collapsed": false,
    "pycharm": {
     "name": "#%% md\n"
    }
   }
  },
  {
   "cell_type": "code",
   "source": [
    "x = df\n",
    "quantile = QuantileTransformer()\n",
    "X = quantile.fit_transform(x)\n",
    "df = quantile.transform(X)\n",
    "df = pd.DataFrame(X)\n",
    "df.columns = all_csv_columns\n",
    "df.head()"
   ],
   "metadata": {
    "collapsed": false,
    "pycharm": {
     "name": "#%%\n"
    }
   },
   "execution_count": 157,
   "outputs": [
    {
     "name": "stderr",
     "output_type": "stream",
     "text": [
      "C:\\Users\\Hubert\\AppData\\Local\\Programs\\Python\\Python39\\lib\\site-packages\\sklearn\\base.py:450: UserWarning: X does not have valid feature names, but QuantileTransformer was fitted with feature names\n",
      "  warnings.warn(\n"
     ]
    },
    {
     "data": {
      "text/plain": "   main_category  currency  deadline      goal  launched   pledged  state   backers   country\n0       0.000000  0.000000  0.735235  0.169670  0.746747  0.000000    0.0  0.000000  0.000000\n1       0.186186  0.508509  0.329830  0.905405  0.337337  0.360360    0.0  0.278278  0.508509\n2       0.361862  0.508509  0.176677  0.514014  0.184184  0.139139    0.0  0.165165  0.508509\n3       0.471972  0.508509  1.000000  0.918418  1.000000  0.970971    1.0  0.916917  0.508509\n4       0.471972  0.508509  0.522022  0.169670  0.529530  0.549049    1.0  0.483483  0.508509",
      "text/html": "<div>\n<style scoped>\n    .dataframe tbody tr th:only-of-type {\n        vertical-align: middle;\n    }\n\n    .dataframe tbody tr th {\n        vertical-align: top;\n    }\n\n    .dataframe thead th {\n        text-align: right;\n    }\n</style>\n<table border=\"1\" class=\"dataframe\">\n  <thead>\n    <tr style=\"text-align: right;\">\n      <th></th>\n      <th>main_category</th>\n      <th>currency</th>\n      <th>deadline</th>\n      <th>goal</th>\n      <th>launched</th>\n      <th>pledged</th>\n      <th>state</th>\n      <th>backers</th>\n      <th>country</th>\n    </tr>\n  </thead>\n  <tbody>\n    <tr>\n      <th>0</th>\n      <td>0.000000</td>\n      <td>0.000000</td>\n      <td>0.735235</td>\n      <td>0.169670</td>\n      <td>0.746747</td>\n      <td>0.000000</td>\n      <td>0.0</td>\n      <td>0.000000</td>\n      <td>0.000000</td>\n    </tr>\n    <tr>\n      <th>1</th>\n      <td>0.186186</td>\n      <td>0.508509</td>\n      <td>0.329830</td>\n      <td>0.905405</td>\n      <td>0.337337</td>\n      <td>0.360360</td>\n      <td>0.0</td>\n      <td>0.278278</td>\n      <td>0.508509</td>\n    </tr>\n    <tr>\n      <th>2</th>\n      <td>0.361862</td>\n      <td>0.508509</td>\n      <td>0.176677</td>\n      <td>0.514014</td>\n      <td>0.184184</td>\n      <td>0.139139</td>\n      <td>0.0</td>\n      <td>0.165165</td>\n      <td>0.508509</td>\n    </tr>\n    <tr>\n      <th>3</th>\n      <td>0.471972</td>\n      <td>0.508509</td>\n      <td>1.000000</td>\n      <td>0.918418</td>\n      <td>1.000000</td>\n      <td>0.970971</td>\n      <td>1.0</td>\n      <td>0.916917</td>\n      <td>0.508509</td>\n    </tr>\n    <tr>\n      <th>4</th>\n      <td>0.471972</td>\n      <td>0.508509</td>\n      <td>0.522022</td>\n      <td>0.169670</td>\n      <td>0.529530</td>\n      <td>0.549049</td>\n      <td>1.0</td>\n      <td>0.483483</td>\n      <td>0.508509</td>\n    </tr>\n  </tbody>\n</table>\n</div>"
     },
     "execution_count": 157,
     "metadata": {},
     "output_type": "execute_result"
    }
   ]
  },
  {
   "cell_type": "markdown",
   "source": [
    "Dla poprawności dalszych kroków można sprawdzić, czy któreś kolumny nie zawierają niepoprawnych/pustych danych."
   ],
   "metadata": {
    "collapsed": false,
    "pycharm": {
     "name": "#%% md\n"
    }
   }
  },
  {
   "cell_type": "code",
   "source": [
    "is_any_nan = False\n",
    "for column in all_csv_columns:\n",
    "    is_any_nan = is_any_nan or df[column].isnull().values.any()\n",
    "\n",
    "print(f'\\nCzy istnieją nieprawidłowe wartości w zbiorze danych: {is_any_nan}\\n')"
   ],
   "metadata": {
    "collapsed": false,
    "pycharm": {
     "name": "#%%\n"
    }
   },
   "execution_count": 158,
   "outputs": [
    {
     "name": "stdout",
     "output_type": "stream",
     "text": [
      "\n",
      "Czy istnieją nieprawidłowe wartości w zbiorze danych: False\n",
      "\n"
     ]
    }
   ]
  },
  {
   "cell_type": "markdown",
   "source": [
    "### Podział zbioru na dane uczące i dane testowe\n",
    "\n",
    "Do stworzenia systemu potrzebne są zarówno dane uczące --- te, z których algorytmy będą czerpały informacje o zależnościach, jak i dane testowe, wykorzystywane do sprawdzenia poprawności zaimplementowanych algorytmów. Podziału dokonano w stosunku 90/10"
   ],
   "metadata": {
    "collapsed": false,
    "pycharm": {
     "name": "#%% md\n"
    }
   }
  },
  {
   "cell_type": "code",
   "source": [
    "train_to_test_ratio = 0.1\n",
    "df_train, df_test = train_test_split(df, test_size=train_to_test_ratio)"
   ],
   "metadata": {
    "collapsed": false,
    "pycharm": {
     "name": "#%%\n"
    }
   },
   "execution_count": 159,
   "outputs": []
  },
  {
   "cell_type": "markdown",
   "source": [
    "## Analiza PCA\n",
    "\n",
    "### Wybór ilości kolumn\n",
    "\n",
    "Analiza PCA pozwala oszacować jaką skuteczność będzie miał system dla danej ilości kolumn. Takie oszacowanie może być bardzo pomocne w wyborze optymalnej ilości kolumn. Jeżeli na podstawie posiadanych danych jesteśmy w stanie stworzyć system, który będzie cechował się skutecznością na poziomie 90% już dla 3 kolumn, to być może jest to wartość wystarczająca, zakładając, że na przykład dla 8 kolumn system będzie miał 93% skuteczności. Wtedy należy rozważyć, czy dodatkowa złożoność wynikająca z uwzględnienia większej ilości kolumn jest warta uzyskania dodatkowych 3 punktów procentowych skuteczności.\n",
    "\n",
    "Do analizy PCA należy wybrać kolumny reprezentujące cechy danego zbioru, oraz kolumne decyzyjną."
   ],
   "metadata": {
    "collapsed": false,
    "pycharm": {
     "name": "#%% md\n"
    }
   }
  },
  {
   "cell_type": "code",
   "source": [
    "all_columns = [\n",
    "    'currency',\n",
    "    'country',\n",
    "    'state',\n",
    "    'pledged',\n",
    "    'backers',\n",
    "    'goal',\n",
    "    'main_category',\n",
    "    'launched',\n",
    "    'deadline',\n",
    "]\n",
    "\n",
    "all_features_columns = [\n",
    "    'currency',\n",
    "    'country',\n",
    "    'pledged',\n",
    "    'backers',\n",
    "    'goal',\n",
    "    'main_category',\n",
    "    'launched',\n",
    "    'deadline',\n",
    "]\n",
    "\n",
    "labels_columns = ['state']\n",
    "\n",
    "features = df_train[all_features_columns]\n",
    "labels = df_train[labels_columns]\n",
    "\n",
    "pca = PCA().fit(features, labels)\n",
    "plt.plot(np.cumsum(pca.explained_variance_ratio_), 'm', linewidth=5.0)\n",
    "plt.xlabel('Liczba kolumn')\n",
    "plt.ylabel('Możliwa skuteczność')\n",
    "plt.show()"
   ],
   "metadata": {
    "collapsed": false,
    "pycharm": {
     "name": "#%%\n"
    }
   },
   "execution_count": 160,
   "outputs": [
    {
     "data": {
      "text/plain": "<Figure size 936x648 with 1 Axes>",
      "image/png": "[encoded data removed]"
     },
     "metadata": {
      "needs_background": "light"
     },
     "output_type": "display_data"
    }
   ]
  },
  {
   "cell_type": "markdown",
   "source": [
    "Na powyższym wykresie można zauważyć, że dla 4 kolumn można osiągnąć maksymalną skuteczność, więc analizowanie większej ilości kolumn nie jest potrzebne. Co więcej, już dla 3 kolumn możliwe jest osiągnięcie ok. 90% skuteczności, co jest bardzo dobrym wynikiem. Analizowanie większej liczby kolumn mogłoby wprowadzić dodatkowy poziom złożoności i niepotrzebną konieczność wykonywania większej liczby obliczeń i analiz."
   ],
   "metadata": {
    "collapsed": false,
    "pycharm": {
     "name": "#%% md\n"
    }
   }
  },
  {
   "cell_type": "markdown",
   "source": [
    "### Wybór kolumn do dalszej analizy\n",
    "\n",
    "W celu wybrania kolumn mających największy wpływ na przynależność do klasy można posłużyć się macierzą kowariancji. Na jej podstawie możliwe będzie stworzenie mapy ciepła, która w przejrzysty sposób zobrazuje zależności między poszczególnymi kolumnami.\n"
   ],
   "metadata": {
    "collapsed": false
   }
  },
  {
   "cell_type": "markdown",
   "source": [
    "#### Stworzenie macierzy kowariancji i wygenerowanie heatmapy"
   ],
   "metadata": {
    "collapsed": false
   }
  },
  {
   "cell_type": "code",
   "source": [
    "scaler = StandardScaler()\n",
    "features_scaled = scaler.fit_transform(df_train[all_columns])\n",
    "\n",
    "covariance_matrix = np.cov(features_scaled.T)\n",
    "\n",
    "columns_dict = create_label_number_dict(all_columns, True)\n",
    "for column in all_columns:\n",
    "    print(f'{columns_dict[column]}: {column}')\n",
    "\n",
    "fig, ax = plt.subplots(figsize=default_figsize)         # Sample figsize in inches\n",
    "sns.heatmap(covariance_matrix, annot=True, ax=ax, fmt='0.2f', cmap='BuPu')"
   ],
   "metadata": {
    "collapsed": false,
    "pycharm": {
     "name": "#%%\n"
    }
   },
   "execution_count": 161,
   "outputs": [
    {
     "name": "stdout",
     "output_type": "stream",
     "text": [
      "0: currency\n",
      "1: country\n",
      "2: state\n",
      "3: pledged\n",
      "4: backers\n",
      "5: goal\n",
      "6: main_category\n",
      "7: launched\n",
      "8: deadline\n"
     ]
    },
    {
     "data": {
      "text/plain": "<AxesSubplot:>"
     },
     "execution_count": 161,
     "metadata": {},
     "output_type": "execute_result"
    },
    {
     "data": {
      "text/plain": "<Figure size 936x648 with 2 Axes>",
      "image/png": "[encoded data removed]"
     },
     "metadata": {
      "needs_background": "light"
     },
     "output_type": "display_data"
    }
   ]
  },
  {
   "cell_type": "markdown",
   "source": [
    "Kolumną decyzyjną jest kolumna numer 2 - jest to kolumna mówiąca o tym, czy projekt zakończył się porażką (1) czy sukcesem (2). Z mapy ciepła wynika korelacja następujących 3 kolumn z kolumną decyzyjną:\n",
    "\n",
    "|  Kolumna 1  |  Kolumna 2  | Kolumna 3 |\n",
    "|:-----------:|:-----------:|:---------:|\n",
    "| pledged (3) | backers (4) | goal (5)  |\n",
    "\n",
    "Na mapie widać inne mocne korelacje, np.:\n",
    "  - 7 i 8 (_launched_ i _deadline_) - kolumny traktujące o dacie rozpoczęcia i zakończenia zbiórki,\n",
    "  - 0 i 1 (_currency_ i _country_) - waluta i kraj\n",
    "  - 3 i 4 (_pledged_ i _backers_) - zebrana kwota i ilość wspierających\n",
    "\n",
    "Powyższe korelacje, mimo że są wysokie, nie wnoszą nic do analizowanego przykładu."
   ],
   "metadata": {
    "collapsed": false,
    "pycharm": {
     "name": "#%% md\n"
    }
   }
  },
  {
   "cell_type": "code",
   "source": [
    "selected_features = ['pledged', 'backers', 'goal']"
   ],
   "metadata": {
    "collapsed": false,
    "pycharm": {
     "name": "#%%\n"
    }
   },
   "execution_count": 162,
   "outputs": []
  },
  {
   "cell_type": "markdown",
   "source": [
    "#### Uzasadnienie wyboru kolumn\n",
    "\n",
    "Patrząc na charakterystykę wybranych kolumn, można stwierdzić następujące zależności:\n",
    "  1. Kolumna **pledged** --- ilość zgromadzonych środków\n",
    "  2. Kolumna **backers** --- ilość osób wspierających\n",
    "  3. Kolumna **goal** --- cel zbiórki\n",
    "\n",
    "Pierwsze 2 kolumny mają oczywisty wpływ na powodzenie projektu, ponieważ im więcej środków zostanie zebranych, tym większa szansa na jego powodzenie. Na ilość środków wpływa z kolei ilość osób wspierających, ponieważ z reguły większa grupa osób jest w stanie zebrać więcej środków niż mniejsza grupa.\n",
    "\n",
    "W przypadku kolumny **goal** występuje ujemna korelacja z kolumną decyzyjną. Oznacza to tyle, że im mniejsza wartość kolumny **goal** tym większa szansa na powodzenie projektu.\n",
    "\n",
    "Wobec tego do dalszej analizy będziemy używać tylko wybranych kolumn."
   ],
   "metadata": {
    "collapsed": false,
    "pycharm": {
     "name": "#%% md\n"
    }
   }
  },
  {
   "cell_type": "markdown",
   "source": [
    "## KNN\n",
    "\n",
    "KNN (**K**-**N**earest **N**eighbours) - algorytm regresji nieparametrycznej służący do klasyfikacji. Polega na porównaniu wartości cech nieznanego elementu z cechami innych elementów, o których wiemy, do jakiej klasy należą, następnie wybraniu k elementów o najbardziej podobnych cechach (podobieństwo cech można wyznaczyć za pomocą odległości euklidesowej. Im jest ona mniejsza, tym bardziej podobne obiekty) i ostatecznie na sklasyfikowaniu nowego elementu jako należącego do tej klasy, której wystąpień jest więcej w zbiorze k najbliższych sąsiadów.\n",
    "\n",
    "### Model pojedynczego elementu"
   ],
   "metadata": {
    "collapsed": false
   }
  },
  {
   "cell_type": "code",
   "source": [
    "class Startup:\n",
    "    def __init__(self, dataframe_row):\n",
    "        self.pledged = dataframe_row['pledged']\n",
    "        self.backers = dataframe_row['backers']\n",
    "        self.goal = dataframe_row['goal']\n",
    "        self.state = dataframe_row['state']\n",
    "\n",
    "    def get_distance_from(self, startup):\n",
    "        return math.sqrt(\n",
    "            math.pow(self.pledged - startup.pledged, 2)\n",
    "            + math.pow(self.backers - startup.backers, 2)\n",
    "            + math.pow(self.goal - startup.goal, 2)\n",
    "        )\n",
    "\n",
    "    def to_string(self):\n",
    "        return f'pledged: {self.pledged}, backers: {self.backers}, goal: {self.goal}, state: {self.state}'"
   ],
   "metadata": {
    "collapsed": false,
    "pycharm": {
     "name": "#%%\n"
    }
   },
   "execution_count": 163,
   "outputs": []
  },
  {
   "cell_type": "markdown",
   "source": [
    "### Model klasy bazowej"
   ],
   "metadata": {
    "collapsed": false,
    "pycharm": {
     "name": "#%% md\n"
    }
   }
  },
  {
   "cell_type": "code",
   "source": [
    "class KnnBase:\n",
    "    def __init__(self, df):\n",
    "        self.df = df\n",
    "        self.count = df['state'].count()\n",
    "        self.items_objects = self.create_startups_objects(df)\n",
    "\n",
    "    def create_startups_objects(self, df, clear_state=False):\n",
    "        count = df['state'].count()\n",
    "        objects = []\n",
    "        for i in range(0, count):\n",
    "            obj = Startup(df.iloc[i])\n",
    "            if clear_state:\n",
    "                obj.state = None\n",
    "            objects.append(obj)\n",
    "        return objects"
   ],
   "metadata": {
    "collapsed": false,
    "pycharm": {
     "name": "#%%\n"
    }
   },
   "execution_count": 164,
   "outputs": []
  },
  {
   "cell_type": "markdown",
   "source": [
    "## KNN"
   ],
   "metadata": {
    "collapsed": false,
    "pycharm": {
     "name": "#%% md\n"
    }
   }
  },
  {
   "cell_type": "code",
   "source": [
    "class Knn(KnnBase):\n",
    "    def __init__(self, df):\n",
    "        super().__init__(df)\n",
    "\n",
    "    def classify(self, unknown, k, print_details=True):\n",
    "        measured_distances = []\n",
    "        k_closest = []\n",
    "\n",
    "        # Calculate distances\n",
    "        for i in range(0, len(self.items_objects)):\n",
    "            startup = self.items_objects[i]\n",
    "            distance = startup.get_distance_from(unknown)\n",
    "            measured_distances.append({ 'index': i, 'distance': distance, 'class': startup.state })\n",
    "\n",
    "        # Sort by lower distance\n",
    "        measured_distances = sorted(measured_distances, key=lambda item: item['distance'])\n",
    "\n",
    "        # Select the k closest neighbours\n",
    "        for i in range(0, k):\n",
    "            k_closest.append(measured_distances[i])\n",
    "\n",
    "        dominant_class = self.get_dominant_class(k_closest)\n",
    "        if print_details:\n",
    "            self.print_selected_closest_neighbours(k_closest)\n",
    "            print(f'Na podstawie {k} najbliższych sąsiadów, element należy do klasy {dominant_class}')\n",
    "\n",
    "        return dominant_class\n",
    "\n",
    "    def get_dominant_class(self, closest):\n",
    "        classes_dict = {}\n",
    "        for el in closest:\n",
    "            class_name = el[\"class\"]\n",
    "            if class_name not in classes_dict.keys():\n",
    "                classes_dict[class_name] = 0\n",
    "            current_class_count_value = int(classes_dict.get(class_name))\n",
    "            classes_dict[class_name] = current_class_count_value + 1\n",
    "\n",
    "        return max(classes_dict, key=classes_dict.get)\n",
    "\n",
    "\n",
    "\n",
    "    def get_all_classes(self, closest):\n",
    "        classes = []\n",
    "        for el in closest:\n",
    "            new_class = el['class']\n",
    "            if new_class not in classes:\n",
    "                classes.append(el['class'])\n",
    "        return classes\n",
    "\n",
    "    def print_selected_closest_neighbours(self, closest):\n",
    "        print(f'{len(closest)} najbliższych sąsiadów elementu')\n",
    "        lp = 1\n",
    "        for neighbour in closest:\n",
    "            print(f'  {lp}. Dystans: {neighbour[\"distance\"]} klasa:{neighbour[\"class\"]}')\n",
    "            lp += 1"
   ],
   "metadata": {
    "collapsed": false,
    "pycharm": {
     "name": "#%%\n"
    }
   },
   "execution_count": 165,
   "outputs": []
  },
  {
   "cell_type": "markdown",
   "source": [
    "### Metryki dla klasyfikacji KNN\n",
    "\n",
    "Metryki dają informacje w postaci następujących wielkości:\n",
    "  - **precision** - zdolność klasyfikatora do nieoznaczenia próbki negatywnej jako pozytywnej\n",
    "  - **recall** - zdolnośc klasyfikatora do znalezienia wszystkich pozytywnych próbek\n",
    "  - **f1-score** - ważona średnia harmoniczna wartości **precision** i **recall**\n",
    "  - **support** - ilość próbek"
   ],
   "metadata": {
    "collapsed": false,
    "pycharm": {
     "name": "#%% md\n"
    }
   }
  },
  {
   "cell_type": "code",
   "source": [
    "knn_k_means = Knn(df_train)\n",
    "\n",
    "test_data_size = df_test['state'].count()\n",
    "classified_correctly = 0\n",
    "\n",
    "expected_classes = []\n",
    "predicted_classes = []\n",
    "\n",
    "for i in range(0, test_data_size):\n",
    "    new_object = Startup(df_test.iloc[i])\n",
    "    expected_outcome = new_object.state\n",
    "    predicted_outcome = knn_k_means.classify(new_object, 3, False)\n",
    "\n",
    "    expected_classes.append(expected_outcome)\n",
    "    predicted_classes.append(predicted_outcome)\n",
    "\n",
    "    if predicted_outcome == expected_outcome:\n",
    "        classified_correctly += 1"
   ],
   "metadata": {
    "collapsed": false,
    "pycharm": {
     "name": "#%%\n"
    }
   },
   "execution_count": 238,
   "outputs": []
  },
  {
   "cell_type": "code",
   "execution_count": 239,
   "outputs": [
    {
     "name": "stdout",
     "output_type": "stream",
     "text": [
      "              precision    recall  f1-score   support\n",
      "\n",
      "  successful       0.98      1.00      0.99        61\n",
      "      failed       1.00      0.97      0.99        39\n",
      "\n",
      "    accuracy                           0.99       100\n",
      "   macro avg       0.99      0.99      0.99       100\n",
      "weighted avg       0.99      0.99      0.99       100\n",
      "\n"
     ]
    },
    {
     "data": {
      "text/plain": "<Figure size 936x648 with 2 Axes>",
      "image/png": "[encoded data removed]"
     },
     "metadata": {
      "needs_background": "light"
     },
     "output_type": "display_data"
    }
   ],
   "source": [
    "print(classification_report(expected_classes, predicted_classes, target_names=['successful', 'failed']))\n",
    "\n",
    "disp = ConfusionMatrixDisplay.from_predictions(expected_classes, predicted_classes, display_labels=['successful', 'failed'], cmap=plt.cm.BuPu)\n",
    "plt.show()"
   ],
   "metadata": {
    "collapsed": false,
    "pycharm": {
     "name": "#%%\n"
    }
   }
  },
  {
   "cell_type": "markdown",
   "source": [
    "Na powyższych metrykach widać skuteczność algorytmu. Dla 3 najbliższych sąsiadów wynosi ona aż 99%. Przeprowadzono również test dla większej ilości sąsiadów (5 i 7) i dla obu tych wartości skuteczność wynosiła 98%.\n",
    "\n",
    "Wadą tego algorytmu jest jego koszt, ponieważ dla każdego klasyfikowanego elementu należy obliczyć odległość od wszystkich znanych elementów. Im lepszej dokładności oczekuje się od algorytmu, tym większy zbiór danych uczących powinno się wykorzystać, a to bezpośrednio wpływa na ilość obliczeń, co przy bardzo dużych zbiorach danych może mieć ogromne znaczenie."
   ],
   "metadata": {
    "collapsed": false
   }
  },
  {
   "cell_type": "markdown",
   "source": [
    "## KNN - Centroidy\n",
    "\n",
    "KNN z centroidami jest rozwinięciem jego podstawowej wersji. Klasyfikacja również polega na obliczeniu odległości (podobieństwa) między obiektem znanym a nieznanym, jednak w tym przypadku różnica jest w porównywanych obiektach. Elementem znanym, jest bowiem centroid. Centroidy są reprezentantami każdej z klas występujących w zbiorze danych, posiadającymi uśrednione wartości innych reprezentantów tychże klas. Innymi słowy, każda klasa ma swojego reprezentanta w postaci centroida. Algorytm wymaga najpierw wytrenowania, które jest dość kosztowne, jednak klasyfikacja sprowadza się już tylko do porównania odległości od kilku centroidów.\n",
    "\n",
    "**Proces uczenia:**\n",
    "1. Stwórz k-elementów o losowo wybranych cechach (najlepiej z przedziału wartości cech elementów ze zbioru uczącego) i wybranych klasach.\n",
    "2. Dla każdego elementu ze zbioru uczącego zmierz odległość do każdego z centroidów i przyporządkuj mu klasę centroida, do którego odległość jest najmniejsza.\n",
    "3. Oblicz średnie wartości cech dla każdej z klas i przypisz te wartości do centroida o danej klasie. Innymi słowy, ustaw centroid w środku grupy, której odpowiada.\n",
    "4. Kroki 2-3 powtarzaj tak długo, aż nie dojdzie do sytuacji, kiedy żaden punkt z iteracji na iterację nie zmieni klasy, do której należy (lub inaczej --- kiedy żaden z centroidów nie zmieni swojego położenia)\n",
    "\n",
    "**Proces klasyfikacji:**\n",
    "1. Dla każdego nieznanego punktu zmierz odległość od każdego centroida i przyporządkuj mu klasę tego, który jest najbliżej."
   ],
   "metadata": {
    "collapsed": false,
    "pycharm": {
     "name": "#%% md\n"
    }
   }
  },
  {
   "cell_type": "code",
   "source": [
    "class KnnCentroids(KnnBase):\n",
    "    def __init__(self, df):\n",
    "        super().__init__(df)\n",
    "        self.clusters = []\n",
    "        self.create_startups_objects(df, True)\n",
    "        self.generate_random_clusters()\n",
    "\n",
    "    def train(self):\n",
    "        points_changed = self.match_point_to_clusters()\n",
    "        counter = 0\n",
    "        while points_changed and counter < 1000000:\n",
    "            counter += 1\n",
    "            self.reposition_clusters()\n",
    "            points_changed = self.match_point_to_clusters()\n",
    "\n",
    "    def generate_random_clusters(self):\n",
    "        clusters =  []\n",
    "        for i in [0, 1]:\n",
    "            pledged = rand.uniform(self.df['pledged'].min(), self.df['pledged'].max())\n",
    "            state = i\n",
    "            backers = rand.uniform(self.df['backers'].min(), self.df['backers'].max())\n",
    "            goal = rand.uniform(self.df['goal'].min(), self.df['goal'].max())\n",
    "            clusters.append(\n",
    "                Startup(pd.Series({\n",
    "                    'pledged': pledged,\n",
    "                    'backers': backers,\n",
    "                    'goal': goal,\n",
    "                    'state': state,\n",
    "                }))\n",
    "            )\n",
    "\n",
    "        self.clusters = clusters\n",
    "\n",
    "    def reposition_clusters(self):\n",
    "        for cluster in self.clusters:\n",
    "            pledged_sum = 0\n",
    "            backers_sum = 0\n",
    "            pledged_ratio_sum = 0\n",
    "            count = 0\n",
    "\n",
    "            for item in self.items_objects:\n",
    "                if item.state == cluster.state:\n",
    "                    pledged_sum += item.pledged\n",
    "                    backers_sum += item.backers\n",
    "                    pledged_ratio_sum += item.goal\n",
    "                    count += 1\n",
    "\n",
    "            if count > 0:\n",
    "                cluster.pledged = pledged_sum / count\n",
    "                cluster.backers = backers_sum / count\n",
    "                cluster.goal = pledged_ratio_sum / count\n",
    "\n",
    "    def match_point_to_clusters(self):\n",
    "        changed = 0\n",
    "        for item in self.items_objects:\n",
    "            current_state = item.state\n",
    "            best_distance = None\n",
    "\n",
    "            for cluster in self.clusters:\n",
    "                if best_distance is None:\n",
    "                    best_distance = item.get_distance_from(cluster)\n",
    "                    new_state = cluster.state\n",
    "                else:\n",
    "                    new_distance = item.get_distance_from(cluster)\n",
    "                    if new_distance < best_distance:\n",
    "                        best_distance = new_distance\n",
    "                        new_state = cluster.state\n",
    "\n",
    "            if current_state != new_state:\n",
    "                item.state = new_state\n",
    "                changed += 1\n",
    "        return changed\n",
    "\n",
    "    def classify(self, item, print_result=True):\n",
    "        distance = None\n",
    "        item_class = None\n",
    "        for cluster in self.clusters:\n",
    "            new_distance = item.get_distance_from(cluster)\n",
    "            new_item_class = cluster.state\n",
    "\n",
    "            if distance is None:\n",
    "                distance = new_distance\n",
    "            if item_class is None:\n",
    "                item_class = new_item_class\n",
    "            if distance is not None and distance < new_distance:\n",
    "                item_class = new_item_class\n",
    "        if print_result:\n",
    "            print(f'Element sklasyfikowany jako {item_class}')\n",
    "\n",
    "        return item_class"
   ],
   "metadata": {
    "collapsed": false,
    "pycharm": {
     "name": "#%%\n"
    }
   },
   "execution_count": 168,
   "outputs": []
  },
  {
   "cell_type": "markdown",
   "source": [
    "### Metryki klasyfikacji KNN dla centroidów"
   ],
   "metadata": {
    "collapsed": false,
    "pycharm": {
     "name": "#%% md\n"
    }
   }
  },
  {
   "cell_type": "code",
   "source": [
    "knn_centroids = KnnCentroids(df_train)\n",
    "knn_centroids.train()\n",
    "\n",
    "test_data_size = df_test['state'].count()\n",
    "classified_correctly = 0\n",
    "\n",
    "expected_classes = []\n",
    "predicted_classes = []\n",
    "\n",
    "for i in range(0, test_data_size):\n",
    "    new_object = Startup(df_test.iloc[i])\n",
    "    expected_outcome = new_object.state\n",
    "    predicted_outcome = knn_centroids.classify(new_object, False)\n",
    "\n",
    "    expected_classes.append(expected_outcome)\n",
    "    predicted_classes.append(predicted_outcome)\n",
    "\n",
    "    if predicted_outcome == expected_outcome:\n",
    "        classified_correctly += 1"
   ],
   "metadata": {
    "collapsed": false,
    "pycharm": {
     "name": "#%%\n"
    }
   },
   "execution_count": 244,
   "outputs": []
  },
  {
   "cell_type": "code",
   "execution_count": 245,
   "outputs": [
    {
     "name": "stdout",
     "output_type": "stream",
     "text": [
      "              precision    recall  f1-score   support\n",
      "\n",
      "  successful       0.87      0.77      0.82        61\n",
      "      failed       0.70      0.82      0.75        39\n",
      "\n",
      "    accuracy                           0.79       100\n",
      "   macro avg       0.78      0.80      0.79       100\n",
      "weighted avg       0.80      0.79      0.79       100\n",
      "\n"
     ]
    },
    {
     "data": {
      "text/plain": "<Figure size 936x648 with 2 Axes>",
      "image/png": "[encoded data removed]"
     },
     "metadata": {
      "needs_background": "light"
     },
     "output_type": "display_data"
    }
   ],
   "source": [
    "print(classification_report(expected_classes, predicted_classes, target_names=['successful', 'failed']))\n",
    "\n",
    "disp = ConfusionMatrixDisplay.from_predictions(expected_classes, predicted_classes, display_labels=['successful', 'failed'], cmap=plt.cm.BuPu)\n",
    "plt.show()"
   ],
   "metadata": {
    "collapsed": false,
    "pycharm": {
     "name": "#%%\n"
    }
   }
  },
  {
   "cell_type": "markdown",
   "source": [
    "Jak wynika z powyższych metryk, skuteczność algorytmu jest gorsza niż w przypadku klasycznego algorytmu KNN. Niemniej, wynik niemal 80% skuteczności jest dość zadowalający. Warto wspomnieć, że ze względu na to, że w przypadku KNN z centroidami losujemy wartości centroidów, którym przypisujemy klasy, istnieje szansa, że centroidy wylosują się \"na odwrót\" i będą dokonywały odwrotnej klasyfikacji, dlatego jeżeli wyniki nie są zadowalające, dobrze jest przeprowadzić proces uczenia kilkukrotnie, w celu wykluczenia takiej ewentualności."
   ],
   "metadata": {
    "collapsed": false,
    "pycharm": {
     "name": "#%% md\n"
    }
   }
  },
  {
   "cell_type": "markdown",
   "source": [
    "## Zbiory rozmyte"
   ],
   "metadata": {
    "collapsed": false
   }
  },
  {
   "cell_type": "code",
   "source": [
    "def gauss(x, avg, std):\n",
    "    return np.exp(-(x - avg)**2 / (2 * std**2))"
   ],
   "metadata": {
    "collapsed": false,
    "pycharm": {
     "name": "#%%\n"
    }
   },
   "execution_count": 171,
   "outputs": []
  },
  {
   "cell_type": "code",
   "execution_count": 172,
   "outputs": [],
   "source": [
    "pledged_range = sorted(df_train.query('0.0 < pledged < 1.0')['pledged'])\n",
    "pledged_1 = sorted(df_train.query('0.0 <= pledged < 0.3')['pledged'])\n",
    "pledged_2 = sorted(df_train.query('0.3 <= pledged < 0.6')['pledged'])\n",
    "pledged_3 = sorted(df_train.query('0.6 <= pledged < 1.0')['pledged'])\n",
    "\n",
    "backers_range = sorted(df_train.query('0.0 < backers < 1.0')['backers'])\n",
    "backers_1 = sorted(df_train.query('0.0 <= backers < 0.3')['backers'])\n",
    "backers_2 = sorted(df_train.query('0.3 <= backers < 0.7')['backers'])\n",
    "backers_3 = sorted(df_train.query('0.7 <= backers < 1.0')['backers'])\n",
    "\n",
    "goal_range = sorted(df_train.query('0.0 < goal < 1.0')['goal'])\n",
    "goal_1 = sorted(df_train.query('0.0 <= goal < 0.4')['goal'])\n",
    "goal_2 = sorted(df_train.query('0.4 <= goal < 0.7')['goal'])\n",
    "goal_3 = sorted(df_train.query('0.7 <= goal < 1')['goal'])"
   ],
   "metadata": {
    "collapsed": false,
    "pycharm": {
     "name": "#%%\n"
    }
   }
  },
  {
   "cell_type": "code",
   "execution_count": 173,
   "outputs": [
    {
     "data": {
      "text/plain": "<Figure size 936x648 with 1 Axes>",
      "image/png": "[encoded data removed]"
     },
     "metadata": {
      "needs_background": "light"
     },
     "output_type": "display_data"
    }
   ],
   "source": [
    "df_train['pledged'].hist()\n",
    "plt.show()"
   ],
   "metadata": {
    "collapsed": false,
    "pycharm": {
     "name": "#%%\n"
    }
   }
  },
  {
   "cell_type": "code",
   "execution_count": 174,
   "outputs": [
    {
     "data": {
      "text/plain": "<Figure size 936x648 with 1 Axes>",
      "image/png": "[encoded data removed]"
     },
     "metadata": {
      "needs_background": "light"
     },
     "output_type": "display_data"
    }
   ],
   "source": [
    "plt.plot(pledged_range, gauss(pledged_range, np.mean(pledged_1), np.std(pledged_1)), linewidth=2)\n",
    "plt.plot(pledged_range, gauss(pledged_range, np.mean(pledged_2), np.std(pledged_2)), linewidth=2)\n",
    "plt.plot(pledged_range, gauss(pledged_range, np.mean(pledged_3), np.std(pledged_3)), linewidth=2)\n",
    "plt.show()"
   ],
   "metadata": {
    "collapsed": false,
    "pycharm": {
     "name": "#%%\n"
    }
   }
  },
  {
   "cell_type": "code",
   "execution_count": 175,
   "outputs": [
    {
     "data": {
      "text/plain": "<Figure size 936x648 with 1 Axes>",
      "image/png": "[encoded data removed]"
     },
     "metadata": {
      "needs_background": "light"
     },
     "output_type": "display_data"
    }
   ],
   "source": [
    "df_train['backers'].hist()\n",
    "plt.show()"
   ],
   "metadata": {
    "collapsed": false,
    "pycharm": {
     "name": "#%%\n"
    }
   }
  },
  {
   "cell_type": "code",
   "execution_count": 176,
   "outputs": [
    {
     "data": {
      "text/plain": "<Figure size 936x648 with 1 Axes>",
      "image/png": "[encoded data removed]"
     },
     "metadata": {
      "needs_background": "light"
     },
     "output_type": "display_data"
    }
   ],
   "source": [
    "plt.plot(backers_range, gauss(backers_range, np.mean(backers_1), np.std(backers_1)), linewidth=2)\n",
    "plt.plot(backers_range, gauss(backers_range, np.mean(backers_2), np.std(backers_2)), linewidth=2)\n",
    "plt.plot(backers_range, gauss(backers_range, np.mean(backers_3), np.std(backers_3)), linewidth=2)\n",
    "plt.show()"
   ],
   "metadata": {
    "collapsed": false,
    "pycharm": {
     "name": "#%%\n"
    }
   }
  },
  {
   "cell_type": "code",
   "execution_count": 177,
   "outputs": [
    {
     "data": {
      "text/plain": "<Figure size 936x648 with 1 Axes>",
      "image/png": "[encoded data removed]"
     },
     "metadata": {
      "needs_background": "light"
     },
     "output_type": "display_data"
    }
   ],
   "source": [
    "df_train['goal'].hist()\n",
    "plt.show()"
   ],
   "metadata": {
    "collapsed": false,
    "pycharm": {
     "name": "#%%\n"
    }
   }
  },
  {
   "cell_type": "code",
   "execution_count": 178,
   "outputs": [
    {
     "data": {
      "text/plain": "<Figure size 936x648 with 1 Axes>",
      "image/png": "[encoded data removed]"
     },
     "metadata": {
      "needs_background": "light"
     },
     "output_type": "display_data"
    }
   ],
   "source": [
    "plt.plot(goal_range, gauss(goal_range, np.mean(goal_1), np.std(goal_1)), linewidth=2)\n",
    "plt.plot(goal_range, gauss(goal_range, np.mean(goal_2), np.std(goal_2)), linewidth=2)\n",
    "plt.plot(goal_range, gauss(goal_range, np.mean(goal_3), np.std(goal_3)), linewidth=2)\n",
    "plt.show()"
   ],
   "metadata": {
    "collapsed": false,
    "pycharm": {
     "name": "#%%\n"
    }
   }
  },
  {
   "cell_type": "markdown",
   "source": [
    "### Funkcje przynależności\n"
   ],
   "metadata": {
    "collapsed": false,
    "pycharm": {
     "name": "#%% md\n"
    }
   }
  },
  {
   "cell_type": "code",
   "source": [
    "class Pledged:\n",
    "    @staticmethod\n",
    "    def is_low(value):\n",
    "        return gauss(value, np.mean(pledged_1), np.std(pledged_1))\n",
    "    @staticmethod\n",
    "    def is_medium(value):\n",
    "        return gauss(value, np.mean(pledged_2), np.std(pledged_2))\n",
    "    @staticmethod\n",
    "    def is_high(value):\n",
    "        return gauss(value, np.mean(pledged_3), np.std(pledged_3))\n",
    "\n",
    "\n",
    "class Backers:\n",
    "    @staticmethod\n",
    "    def is_low(value):\n",
    "        return gauss(value, np.mean(backers_1), np.std(backers_1))\n",
    "    @staticmethod\n",
    "    def is_medium(value):\n",
    "        return gauss(value, np.mean(backers_2), np.std(backers_2))\n",
    "    @staticmethod\n",
    "    def is_high(value):\n",
    "        return gauss(value, np.mean(backers_3), np.std(backers_3))\n",
    "\n",
    "\n",
    "class Goal:\n",
    "    @staticmethod\n",
    "    def is_low(value):\n",
    "        return gauss(value, np.mean(goal_1), np.std(goal_1))\n",
    "    @staticmethod\n",
    "    def is_medium(value):\n",
    "        return gauss(value, np.mean(goal_2), np.std(goal_2))\n",
    "    @staticmethod\n",
    "    def is_high(value):\n",
    "        return gauss(value, np.mean(goal_3), np.std(goal_3))"
   ],
   "metadata": {
    "collapsed": false,
    "pycharm": {
     "name": "#%%\n"
    }
   },
   "execution_count": 179,
   "outputs": []
  },
  {
   "cell_type": "markdown",
   "source": [
    "### Takagi Sugeno"
   ],
   "metadata": {
    "collapsed": false,
    "pycharm": {
     "name": "#%% md\n"
    }
   }
  },
  {
   "cell_type": "markdown",
   "source": [
    "### Definicja reguł"
   ],
   "metadata": {
    "collapsed": false
   }
  },
  {
   "cell_type": "markdown",
   "source": [],
   "metadata": {
    "collapsed": false
   }
  },
  {
   "cell_type": "code",
   "execution_count": 180,
   "outputs": [],
   "source": [
    "def match_rules_previev(pledged, backers, goal, state):\n",
    "    fuzzy_rules = [\n",
    "        (Pledged.is_low(pledged) * Backers.is_low(backers) * Goal.is_low(goal)), #1\n",
    "        (Pledged.is_low(pledged) * Backers.is_low(backers) * Goal.is_medium(goal)), #2\n",
    "        (Pledged.is_low(pledged) * Backers.is_low(backers) * Goal.is_high(goal)), #3\n",
    "        (Pledged.is_low(pledged) * Backers.is_medium(backers) * Goal.is_low(goal)), #4\n",
    "        (Pledged.is_low(pledged) * Backers.is_medium(backers) * Goal.is_medium(goal)), #5\n",
    "        (Pledged.is_low(pledged) * Backers.is_medium(backers) * Goal.is_high(goal)), #6\n",
    "        (Pledged.is_low(pledged) * Backers.is_high(backers) * Goal.is_low(goal)), #7\n",
    "        (Pledged.is_low(pledged) * Backers.is_high(backers) * Goal.is_medium(goal)), #8\n",
    "        (Pledged.is_low(pledged) * Backers.is_high(backers) * Goal.is_high(goal)), #9\n",
    "\n",
    "        (Pledged.is_medium(pledged) * Backers.is_low(backers) * Goal.is_low(goal)), #10\n",
    "        (Pledged.is_medium(pledged) * Backers.is_low(backers) * Goal.is_medium(goal)), #11\n",
    "        (Pledged.is_medium(pledged) * Backers.is_low(backers) * Goal.is_high(goal)), #12\n",
    "        (Pledged.is_medium(pledged) * Backers.is_medium(backers) * Goal.is_low(goal)), #13\n",
    "        (Pledged.is_medium(pledged) * Backers.is_medium(backers) * Goal.is_medium(goal)), #14\n",
    "        (Pledged.is_medium(pledged) * Backers.is_medium(backers) * Goal.is_high(goal)), #15\n",
    "        (Pledged.is_medium(pledged) * Backers.is_high(backers) * Goal.is_low(goal)), #16\n",
    "        (Pledged.is_medium(pledged) * Backers.is_high(backers) * Goal.is_medium(goal)), #17\n",
    "        (Pledged.is_medium(pledged) * Backers.is_high(backers) * Goal.is_high(goal)), #18\n",
    "\n",
    "        (Pledged.is_high(pledged) * Backers.is_low(backers) * Goal.is_low(goal)), #19\n",
    "        (Pledged.is_high(pledged) * Backers.is_low(backers) * Goal.is_medium(goal)), #20\n",
    "        (Pledged.is_high(pledged) * Backers.is_low(backers) * Goal.is_high(goal)), #21\n",
    "        (Pledged.is_high(pledged) * Backers.is_medium(backers) * Goal.is_low(goal)), #22\n",
    "        (Pledged.is_high(pledged) * Backers.is_medium(backers) * Goal.is_medium(goal)), #23\n",
    "        (Pledged.is_high(pledged) * Backers.is_medium(backers) * Goal.is_high(goal)), #24\n",
    "        (Pledged.is_high(pledged) * Backers.is_high(backers) * Goal.is_low(goal)), #25\n",
    "        (Pledged.is_high(pledged) * Backers.is_high(backers) * Goal.is_medium(goal)), #26\n",
    "        (Pledged.is_high(pledged) * Backers.is_high(backers) * Goal.is_high(goal)), #27\n",
    "    ]\n",
    "\n",
    "    return {\n",
    "        'expected_output': state,\n",
    "        'max_index': fuzzy_rules.index(max(fuzzy_rules)) + 1,\n",
    "    }"
   ],
   "metadata": {
    "collapsed": false,
    "pycharm": {
     "name": "#%%\n"
    }
   }
  },
  {
   "cell_type": "code",
   "execution_count": 181,
   "outputs": [],
   "source": [
    "from collections import Counter\n",
    "\n",
    "failed = []\n",
    "successful = []\n",
    "\n",
    "for index in df_train.index:\n",
    "    row = df_train.loc[index]\n",
    "    state = row['state']\n",
    "\n",
    "    if state == 0:\n",
    "        failed.append(match_rules_previev(row['pledged'], row['backers'], row['goal'], row['state']))\n",
    "    else:\n",
    "        successful.append(match_rules_previev(row['pledged'], row['backers'], row['goal'], row['state']))\n",
    "\n",
    "# failed.sort(key=lambda item: item['rule_value'])\n",
    "# successful.sort(key=lambda item: item['rule_value'])\n",
    "\n",
    "failed_max_rules = list(map(lambda x: x['max_index'], failed))\n",
    "successful_max_rules = list(map(lambda x: x['max_index'], successful))"
   ],
   "metadata": {
    "collapsed": false,
    "pycharm": {
     "name": "#%%\n"
    }
   }
  },
  {
   "cell_type": "code",
   "execution_count": 182,
   "outputs": [
    {
     "name": "stdout",
     "output_type": "stream",
     "text": [
      "Reguły dla niepowodzenia startupu\n",
      "Counter({1: 107, 2: 81, 3: 58, 13: 58, 14: 52, 15: 46, 27: 29, 24: 22, 23: 13, 4: 13, 12: 6, 26: 6, 5: 6, 10: 6, 18: 5, 6: 4, 17: 3, 11: 3, 22: 1})\n",
      "\n",
      "Reguły dla powodzenia startupu\n",
      "Counter({26: 92, 27: 81, 13: 75, 25: 49, 22: 40, 23: 24, 24: 6, 16: 6, 4: 5, 10: 2, 1: 1})\n"
     ]
    }
   ],
   "source": [
    "print('Reguły dla niepowodzenia startupu')\n",
    "print(Counter(failed_max_rules))\n",
    "\n",
    "print('\\nReguły dla powodzenia startupu')\n",
    "print(Counter(successful_max_rules))"
   ],
   "metadata": {
    "collapsed": false,
    "pycharm": {
     "name": "#%%\n"
    }
   }
  },
  {
   "cell_type": "markdown",
   "source": [
    "W powyższej komórce przedstawiono reguły przyporządkowane klasom, oraz jak często były przyporządkowywane, czyli:\n",
    "\n",
    "Klasa 0: reguła pierwsza wystąpiła 98 razy, druga 87 razy, itd.\n",
    "Klasa 0: reguła 26 wystąpiła 91 razy, 13 74 razy, itd.\n",
    "\n",
    "Pozwoli to wybrać ostateczne reguły. Można zauważyć, że reguła 13 pojawiła się dość wysoko zarówno w klasie określającej powodzenie jak i niepowodzenie startupu. Wobec tego, należy wyeliminować tego typu wystąpienia."
   ],
   "metadata": {
    "collapsed": false
   }
  },
  {
   "cell_type": "markdown",
   "source": [
    "### Reguły wybrane"
   ],
   "metadata": {
    "collapsed": false
   }
  },
  {
   "cell_type": "code",
   "execution_count": 183,
   "outputs": [],
   "source": [
    "def match_rules(pledged, backers, goal):\n",
    "    # Wybrane reguły rozmyte\n",
    "    fuzzy_rules = [\n",
    "        # Reguły dla klasy 0 (niepowodzenie)\n",
    "        (Pledged.is_low(pledged) * Backers.is_low(backers) * Goal.is_low(goal)), #1\n",
    "        (Pledged.is_low(pledged) * Backers.is_low(backers) * Goal.is_medium(goal)), #2\n",
    "        (Pledged.is_low(pledged) * Backers.is_low(backers) * Goal.is_high(goal)), #3\n",
    "        (Pledged.is_medium(pledged) * Backers.is_medium(backers) * Goal.is_medium(goal)), #14\n",
    "        (Pledged.is_medium(pledged) * Backers.is_medium(backers) * Goal.is_high(goal)), #15\n",
    "\n",
    "        # Reguły dla klasy 0 (powodzenie)\n",
    "        (Pledged.is_high(pledged) * Backers.is_high(backers) * Goal.is_low(goal)), #25\n",
    "        (Pledged.is_high(pledged) * Backers.is_high(backers) * Goal.is_medium(goal)), #26\n",
    "        (Pledged.is_high(pledged) * Backers.is_high(backers) * Goal.is_high(goal)), #27\n",
    "    ]\n",
    "\n",
    "    decisions = [0, 0, 0, 0, 0, 1, 1, 1]\n",
    "\n",
    "    failed = []\n",
    "    successful = []\n",
    "\n",
    "    for i in range(len(decisions)):\n",
    "        if decisions[i] == 0:\n",
    "            failed.append(fuzzy_rules[i])\n",
    "        else:\n",
    "          successful.append(fuzzy_rules[i])\n",
    "\n",
    "    return {\n",
    "      \"max_failed\": max(failed),\n",
    "      \"index_failed\": fuzzy_rules.index(max(failed)),\n",
    "      \"max_successful\": max(successful),\n",
    "      \"index_successful\": fuzzy_rules.index(max(successful)),\n",
    "    }"
   ],
   "metadata": {
    "collapsed": false,
    "pycharm": {
     "name": "#%%\n"
    }
   }
  },
  {
   "cell_type": "code",
   "execution_count": 191,
   "outputs": [],
   "source": [
    "result = []\n",
    "\n",
    "for index in df_test.index:\n",
    "    row = df_test.loc[index]\n",
    "    value = match_rules(row['pledged'], row['backers'], row['goal'])\n",
    "    result.append({\n",
    "        'rule_data': value,\n",
    "        'decision': row['state']\n",
    "    })"
   ],
   "metadata": {
    "collapsed": false,
    "pycharm": {
     "name": "#%%\n"
    }
   }
  },
  {
   "cell_type": "code",
   "execution_count": 185,
   "outputs": [
    {
     "name": "stdout",
     "output_type": "stream",
     "text": [
      "Counter({0: 152, 3: 110, 4: 106, 1: 87, 2: 64})\n",
      "Counter({5: 178, 6: 116, 7: 87})\n"
     ]
    }
   ],
   "source": [
    "list_0 = []\n",
    "list_1 = []\n",
    "\n",
    "for el in result:\n",
    "  if(el[\"decision\"] == 0):\n",
    "    list_0.append(el[\"rule_data\"][\"index_failed\"])\n",
    "  else:\n",
    "    list_1.append(el[\"rule_data\"][\"index_successful\"])\n",
    "\n",
    "print(Counter(list_0))\n",
    "print(Counter(list_1))"
   ],
   "metadata": {
    "collapsed": false,
    "pycharm": {
     "name": "#%%\n"
    }
   }
  },
  {
   "cell_type": "markdown",
   "source": [
    "### Wnioskowanie Takagi Sugeno"
   ],
   "metadata": {
    "collapsed": false,
    "pycharm": {
     "name": "#%% md\n"
    }
   }
  },
  {
   "cell_type": "code",
   "execution_count": 220,
   "outputs": [],
   "source": [
    "def takagi_sugeno(data):\n",
    "  coefficient_array = [0.3, 1]\n",
    "  denominator = 0\n",
    "  nominator = 0\n",
    "\n",
    "  for i in range(len(data)):\n",
    "    nominator = nominator + (data[i] * coefficient_array[i])\n",
    "    denominator = denominator + coefficient_array[i]\n",
    "\n",
    "  return nominator / denominator"
   ],
   "metadata": {
    "collapsed": false,
    "pycharm": {
     "name": "#%%\n"
    }
   }
  },
  {
   "cell_type": "markdown",
   "source": [
    "### Wyznaczanie tresholdu\n",
    "\n",
    "**Treshold** (ang. _próg_) to wartość będąca buforem pomiędzy poszczególnymi przedziałami rozmytymi (mało, średnio, dużo), po której przekroczeniu wartość traktowana jest jako należąca już do innego przedziału. Jego wyznaczenie pomoże w podejmowaniu decyzji."
   ],
   "metadata": {
    "collapsed": false
   }
  },
  {
   "cell_type": "code",
   "execution_count": 219,
   "outputs": [
    {
     "name": "stdout",
     "output_type": "stream",
     "text": [
      "0: 0.0639288723130711\n",
      "1: 0.19249207907292912\n",
      "\n",
      "średnia: 0.1282104756930001\n"
     ]
    }
   ],
   "source": [
    "tab_failed = []\n",
    "tab_successful = []\n",
    "\n",
    "for i in range(0, len(result)):\n",
    "  if result[i]['decision'] == 0:\n",
    "    tab_failed.append(takagi_sugeno([result[i]['rule_data']['max_failed'], result[i]['rule_data']['max_successful']]))\n",
    "  else:\n",
    "    tab_successful.append(takagi_sugeno([result[i]['rule_data']['max_failed'], result[i]['rule_data']['max_successful']]))\n",
    "\n",
    "print(f'0: {np.mean(tab_failed)}\\n'\n",
    "      f'1: {np.mean(tab_successful)}\\n\\n'\n",
    "      f'średnia: {(np.mean(tab_failed) + np.mean(tab_successful)) / 2}')"
   ],
   "metadata": {
    "collapsed": false,
    "pycharm": {
     "name": "#%%\n"
    }
   }
  },
  {
   "cell_type": "markdown",
   "source": [
    "W powyższym wyniku widać, że średnia wartość tresholdu wynosi odpowiednio 0.06 dla klasy 0 oraz 0.19 dla klasy 1. Ich średnia powinna być złotym środkiem w wyborze uniwersalnej wartości.\n",
    "\n",
    "Jak można zauważyć w poniższym fragmencie kodu, używany treshold jest widocznie niższy od sugerowanego. Wynika to z przeprowadzonych testów, które potwierdziły 2 rzeczy:\n",
    "\n",
    "1. Im bardziej zbliżamy się do wartości tresholdu odpowiadającego danej klasie, tym bardziej predykcja danej klasy jest dokładna przy jednoczesnym spadku dokładności predykcji klasy przeciwnej.\n",
    "2."
   ],
   "metadata": {
    "collapsed": false,
    "pycharm": {
     "name": "#%% md\n"
    }
   }
  },
  {
   "cell_type": "code",
   "execution_count": 228,
   "outputs": [
    {
     "name": "stdout",
     "output_type": "stream",
     "text": [
      "              precision    recall  f1-score   support\n",
      "\n",
      "  successful       0.64      0.85      0.73        61\n",
      "      failed       0.53      0.26      0.34        39\n",
      "\n",
      "    accuracy                           0.62       100\n",
      "   macro avg       0.58      0.55      0.54       100\n",
      "weighted avg       0.60      0.62      0.58       100\n",
      "\n"
     ]
    },
    {
     "data": {
      "text/plain": "<Figure size 936x648 with 2 Axes>",
      "image/png": "[encoded data removed]"
     },
     "metadata": {
      "needs_background": "light"
     },
     "output_type": "display_data"
    }
   ],
   "source": [
    "predicted_classes = []\n",
    "treshold = 0.01\n",
    "\n",
    "for index in df_test.index:\n",
    "    row = df_test.loc[index]\n",
    "    element = match_rules(row['pledged'], row['backers'], row['goal'])\n",
    "\n",
    "    if takagi_sugeno([element['max_failed'], element['max_successful']]) > treshold:\n",
    "        predicted_classes.append(0)\n",
    "    else:\n",
    "        predicted_classes.append(1)\n",
    "\n",
    "print(classification_report(expected_classes, predicted_classes, target_names=['successful', 'failed']))\n",
    "\n",
    "disp = ConfusionMatrixDisplay.from_predictions(expected_classes, predicted_classes, display_labels=['successful', 'failed'], cmap=plt.cm.BuPu)\n",
    "plt.show()"
   ],
   "metadata": {
    "collapsed": false,
    "pycharm": {
     "name": "#%%\n"
    }
   }
  },
  {
   "cell_type": "code",
   "execution_count": null,
   "outputs": [],
   "source": [],
   "metadata": {
    "collapsed": false,
    "pycharm": {
     "name": "#%%\n"
    }
   }
  }
 ],
 "metadata": {
  "kernelspec": {
   "display_name": "Python 3",
   "language": "python",
   "name": "python3"
  },
  "language_info": {
   "codemirror_mode": {
    "name": "ipython",
    "version": 2
   },
   "file_extension": ".py",
   "mimetype": "text/x-python",
   "name": "python",
   "nbconvert_exporter": "python",
   "pygments_lexer": "ipython2",
   "version": "2.7.6"
  }
 },
 "nbformat": 4,
 "nbformat_minor": 0
}