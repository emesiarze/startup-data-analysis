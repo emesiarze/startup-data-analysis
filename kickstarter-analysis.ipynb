{
 "cells": [
  {
   "cell_type": "markdown",
   "source": [
    "# Analiza projektów kickstarter"
   ],
   "metadata": {
    "collapsed": false,
    "pycharm": {
     "name": "#%% md\n"
    }
   }
  },
  {
   "cell_type": "markdown",
   "source": [
    "## Przygotowanie bibliotek wykorzystywanych w systemie\n",
    "\n",
    "W systemie wykorzystywane są następujące biblioteki\n",
    "\n",
    "- **pandas** - odczyt, zapis i operacje na danych\n",
    "- **datetime** - operacje na datach\n",
    "- **sklearn** - funkcje wykorzystywane w analizie danych\n",
    "- **math**, **numpy** - liczne funkcje matematyczne\n",
    "- **seaborn** - graficzna reprezentacja danych\n",
    "- **random** - generowanie liczb losowych\n",
    "- **matplotlib** - wykresy"
   ],
   "metadata": {
    "collapsed": false,
    "pycharm": {
     "name": "#%% md\n"
    }
   }
  },
  {
   "cell_type": "code",
   "source": [
    "import pandas as pd\n",
    "from datetime import datetime\n",
    "from sklearn.preprocessing import StandardScaler\n",
    "from sklearn.model_selection import train_test_split\n",
    "from sklearn.decomposition import PCA\n",
    "from sklearn.metrics import classification_report, confusion_matrix, ConfusionMatrixDisplay\n",
    "import math\n",
    "import numpy as np\n",
    "import seaborn as sns\n",
    "import random as rand\n",
    "import matplotlib.pyplot as plt"
   ],
   "metadata": {
    "collapsed": false,
    "pycharm": {
     "name": "#%%\n"
    }
   },
   "execution_count": 70,
   "outputs": []
  },
  {
   "cell_type": "markdown",
   "source": [
    "## Konfiguracja systemu\n",
    "\n",
    "Ta sekcja zawiera ustawienia dla poszczególnych bibliotek. Są to konfiguracje sposobu wyświetlania danych dla DataFrame oraz kodowania przy"
   ],
   "metadata": {
    "collapsed": false,
    "pycharm": {
     "name": "#%% md\n"
    }
   }
  },
  {
   "cell_type": "code",
   "source": [
    "# Skonfigurowanie opcji wyświetlania\n",
    "pd.set_option('display.max_columns', 500)\n",
    "pd.set_option('display.width', 1000)\n",
    "\n",
    "default_figsize = (13, 9)\n",
    "plt.rcParams[\"figure.figsize\"] = default_figsize\n",
    "\n",
    "# Parametry wykorzystywane przy wczytywaniu danych\n",
    "encoding='ISO-8859-1'"
   ],
   "metadata": {
    "collapsed": false,
    "pycharm": {
     "name": "#%%\n"
    }
   },
   "execution_count": 71,
   "outputs": []
  },
  {
   "cell_type": "markdown",
   "source": [
    "## Przygotowanie danych\n",
    "\n",
    "### Wczytanie danych"
   ],
   "metadata": {
    "collapsed": false,
    "pycharm": {
     "name": "#%% md\n"
    }
   }
  },
  {
   "cell_type": "code",
   "source": [
    "dataset_path = './data/kickstarter-projects-filtered.csv'\n",
    "rows_number = 5000\n",
    "all_csv_columns = ['main_category', 'currency', 'deadline', 'goal', 'launched', 'pledged', 'state', 'backers', 'country']\n",
    "df = pd.read_csv(\n",
    "    dataset_path,\n",
    "    encoding=encoding,\n",
    "    low_memory=False\n",
    "    ).head(rows_number).filter(all_csv_columns, axis=1)\n",
    "\n",
    "print(df.head())"
   ],
   "metadata": {
    "collapsed": false,
    "pycharm": {
     "name": "#%%\n"
    }
   },
   "execution_count": 72,
   "outputs": [
    {
     "name": "stdout",
     "output_type": "stream",
     "text": [
      "  main_category currency        deadline     goal        launched  pledged       state  backers country\n",
      "0    Publishing      GBP  09-10-15 11:36   1000.0  11-08-15 12:12      0.0      failed        0      GB\n",
      "1  Film & Video      USD   26-02-13 0:20  45000.0   12-01-13 0:20    220.0      failed        3      US\n",
      "2         Music      USD   16-04-12 4:24   5000.0   17-03-12 3:24      1.0      failed        1      US\n",
      "3          Food      USD  01-04-16 13:38  50000.0  26-02-16 13:38  52375.0  successful      224      US\n",
      "4          Food      USD  21-12-14 18:30   1000.0  01-12-14 18:30   1205.0  successful       16      US\n"
     ]
    }
   ]
  },
  {
   "cell_type": "markdown",
   "source": [
    "### Konwersja danych tekstowych na dane liczbowe\n",
    "\n",
    "Aby dane mogły zostać poprawnie przetworzone w dalszych krokach przy użyciu metody PCA, dane tekstowe należy zamienić na dane liczbowe. Do tego celu można wykorzystać słowniki. Algorytm konwersji jest następujący:\n",
    "- zebrać wszystkie wartości występujące w danej kolumnie\n",
    "- przyporządkować każdej wartości kolejną liczbę naturalną rozpoczynając od zera (lub jedynki)."
   ],
   "metadata": {
    "collapsed": false
   }
  },
  {
   "cell_type": "code",
   "execution_count": 73,
   "outputs": [],
   "source": [
    "def get_all_values_from_column(df, col_name):\n",
    "    values = []\n",
    "    for i in range(0, len(df[col_name])):\n",
    "        category = df[col_name][i]\n",
    "        if category not in values:\n",
    "            values.append(category)\n",
    "\n",
    "    return values\n",
    "\n",
    "\n",
    "def create_label_number_dict(names, start_from_zero = False):\n",
    "    normalized = {}\n",
    "    zero_margin = 1 - int(start_from_zero)\n",
    "    for i in range(0, len(names)):\n",
    "        name = names[i]\n",
    "        normalized[name] = i + zero_margin\n",
    "\n",
    "    return normalized\n",
    "\n",
    "def map_text_to_number(df, column_name, dict):\n",
    "    mapped = pd.Series(df[column_name].map(dict), name=column_name)\n",
    "    df.update(mapped)\n",
    "\n",
    "    return df"
   ],
   "metadata": {
    "collapsed": false,
    "pycharm": {
     "name": "#%%\n"
    }
   }
  },
  {
   "cell_type": "code",
   "execution_count": 74,
   "outputs": [],
   "source": [
    "categories = get_all_values_from_column(df, 'main_category')\n",
    "countries = get_all_values_from_column(df, 'country')\n",
    "states = get_all_values_from_column(df, 'state')\n",
    "currencies = get_all_values_from_column(df, 'currency')\n",
    "\n",
    "categories_dict = create_label_number_dict(categories)\n",
    "countries_dict = create_label_number_dict(countries)\n",
    "states_dict = create_label_number_dict(states)\n",
    "currencies_dict = create_label_number_dict(currencies)\n",
    "\n",
    "df = map_text_to_number(df, 'main_category', categories_dict)\n",
    "df = map_text_to_number(df, 'country', countries_dict)\n",
    "df = map_text_to_number(df, 'state', states_dict)\n",
    "df = map_text_to_number(df, 'currency', currencies_dict)"
   ],
   "metadata": {
    "collapsed": false,
    "pycharm": {
     "name": "#%%\n"
    }
   }
  },
  {
   "cell_type": "markdown",
   "source": [
    "### Konwersja dat na dane liczbowe\n",
    "\n",
    "W przypadku dat przyjęto strategię reprezentacji ich jako **timestamp**"
   ],
   "metadata": {
    "collapsed": false
   }
  },
  {
   "cell_type": "code",
   "source": [
    "def date_to_timestamp(dt):\n",
    "    return int(datetime.strptime(dt, \"%d-%m-%y %H:%M\").timestamp())\n",
    "\n",
    "\n",
    "def map_date_to_timestamp(df, column_names):\n",
    "    for column_name in column_names:\n",
    "        mapped = pd.Series(df[column_name].map(date_to_timestamp), name=column_name)\n",
    "        df.update(mapped)\n",
    "\n",
    "    return df\n",
    "\n",
    "df = map_date_to_timestamp(df, ['launched', 'deadline'])"
   ],
   "metadata": {
    "collapsed": false,
    "pycharm": {
     "name": "#%%\n"
    }
   },
   "execution_count": 75,
   "outputs": []
  },
  {
   "cell_type": "markdown",
   "source": [
    "### Dodanie sztucznej kolumny _pledged_ratio_\n",
    "\n",
    "Kolumna przedstawia stosunek zebranej kwoty do postawionego celu w postaci procentowej."
   ],
   "metadata": {
    "collapsed": false
   }
  },
  {
   "cell_type": "code",
   "execution_count": 76,
   "outputs": [
    {
     "data": {
      "text/plain": "  main_category currency    deadline     goal    launched  pledged state  backers country  pledged_ratio\n0             1        1  1444383360   1000.0  1439287920      0.0     1        0       1       0.000000\n1             2        2  1361834400  45000.0  1357946400    220.0     1        3       2       0.488889\n2             3        2  1334543040   5000.0  1331951040      1.0     1        1       2       0.020000\n3             4        2  1459510680  50000.0  1456490280  52375.0     2      224       2     104.750000\n4             4        2  1419183000   1000.0  1417455000   1205.0     2       16       2     120.500000",
      "text/html": "<div>\n<style scoped>\n    .dataframe tbody tr th:only-of-type {\n        vertical-align: middle;\n    }\n\n    .dataframe tbody tr th {\n        vertical-align: top;\n    }\n\n    .dataframe thead th {\n        text-align: right;\n    }\n</style>\n<table border=\"1\" class=\"dataframe\">\n  <thead>\n    <tr style=\"text-align: right;\">\n      <th></th>\n      <th>main_category</th>\n      <th>currency</th>\n      <th>deadline</th>\n      <th>goal</th>\n      <th>launched</th>\n      <th>pledged</th>\n      <th>state</th>\n      <th>backers</th>\n      <th>country</th>\n      <th>pledged_ratio</th>\n    </tr>\n  </thead>\n  <tbody>\n    <tr>\n      <th>0</th>\n      <td>1</td>\n      <td>1</td>\n      <td>1444383360</td>\n      <td>1000.0</td>\n      <td>1439287920</td>\n      <td>0.0</td>\n      <td>1</td>\n      <td>0</td>\n      <td>1</td>\n      <td>0.000000</td>\n    </tr>\n    <tr>\n      <th>1</th>\n      <td>2</td>\n      <td>2</td>\n      <td>1361834400</td>\n      <td>45000.0</td>\n      <td>1357946400</td>\n      <td>220.0</td>\n      <td>1</td>\n      <td>3</td>\n      <td>2</td>\n      <td>0.488889</td>\n    </tr>\n    <tr>\n      <th>2</th>\n      <td>3</td>\n      <td>2</td>\n      <td>1334543040</td>\n      <td>5000.0</td>\n      <td>1331951040</td>\n      <td>1.0</td>\n      <td>1</td>\n      <td>1</td>\n      <td>2</td>\n      <td>0.020000</td>\n    </tr>\n    <tr>\n      <th>3</th>\n      <td>4</td>\n      <td>2</td>\n      <td>1459510680</td>\n      <td>50000.0</td>\n      <td>1456490280</td>\n      <td>52375.0</td>\n      <td>2</td>\n      <td>224</td>\n      <td>2</td>\n      <td>104.750000</td>\n    </tr>\n    <tr>\n      <th>4</th>\n      <td>4</td>\n      <td>2</td>\n      <td>1419183000</td>\n      <td>1000.0</td>\n      <td>1417455000</td>\n      <td>1205.0</td>\n      <td>2</td>\n      <td>16</td>\n      <td>2</td>\n      <td>120.500000</td>\n    </tr>\n  </tbody>\n</table>\n</div>"
     },
     "execution_count": 76,
     "metadata": {},
     "output_type": "execute_result"
    }
   ],
   "source": [
    "df['pledged_ratio'] = df['pledged'].astype(float) / df['goal'].astype(float) * 100\n",
    "df.head()"
   ],
   "metadata": {
    "collapsed": false,
    "pycharm": {
     "name": "#%%\n"
    }
   }
  },
  {
   "cell_type": "markdown",
   "source": [
    "### Normalizowanie danych\n",
    "\n",
    "Na tym etapie dane"
   ],
   "metadata": {
    "collapsed": false
   }
  },
  {
   "cell_type": "code",
   "execution_count": 77,
   "outputs": [
    {
     "data": {
      "text/plain": "  main_category currency  deadline      goal  launched       pledged state   backers country  pledged_ratio\n0             1        1  0.843149  0.000067  0.828742  0.000000e+00   0.0  0.000000       1   0.000000e+00\n1             2        2  0.489407  0.003000  0.482764  2.559189e-05   0.0  0.000047       2   1.024085e-06\n2             3        2  0.372457  0.000333  0.372195  1.163268e-07   0.0  0.000016       2   4.189438e-08\n3             4        2  0.907973  0.003333   0.90191  6.092614e-03   1.0  0.003532       2   2.194218e-04\n4             4        2  0.735159  0.000067  0.735877  1.401737e-04   1.0  0.000252       2   2.524136e-04",
      "text/html": "<div>\n<style scoped>\n    .dataframe tbody tr th:only-of-type {\n        vertical-align: middle;\n    }\n\n    .dataframe tbody tr th {\n        vertical-align: top;\n    }\n\n    .dataframe thead th {\n        text-align: right;\n    }\n</style>\n<table border=\"1\" class=\"dataframe\">\n  <thead>\n    <tr style=\"text-align: right;\">\n      <th></th>\n      <th>main_category</th>\n      <th>currency</th>\n      <th>deadline</th>\n      <th>goal</th>\n      <th>launched</th>\n      <th>pledged</th>\n      <th>state</th>\n      <th>backers</th>\n      <th>country</th>\n      <th>pledged_ratio</th>\n    </tr>\n  </thead>\n  <tbody>\n    <tr>\n      <th>0</th>\n      <td>1</td>\n      <td>1</td>\n      <td>0.843149</td>\n      <td>0.000067</td>\n      <td>0.828742</td>\n      <td>0.000000e+00</td>\n      <td>0.0</td>\n      <td>0.000000</td>\n      <td>1</td>\n      <td>0.000000e+00</td>\n    </tr>\n    <tr>\n      <th>1</th>\n      <td>2</td>\n      <td>2</td>\n      <td>0.489407</td>\n      <td>0.003000</td>\n      <td>0.482764</td>\n      <td>2.559189e-05</td>\n      <td>0.0</td>\n      <td>0.000047</td>\n      <td>2</td>\n      <td>1.024085e-06</td>\n    </tr>\n    <tr>\n      <th>2</th>\n      <td>3</td>\n      <td>2</td>\n      <td>0.372457</td>\n      <td>0.000333</td>\n      <td>0.372195</td>\n      <td>1.163268e-07</td>\n      <td>0.0</td>\n      <td>0.000016</td>\n      <td>2</td>\n      <td>4.189438e-08</td>\n    </tr>\n    <tr>\n      <th>3</th>\n      <td>4</td>\n      <td>2</td>\n      <td>0.907973</td>\n      <td>0.003333</td>\n      <td>0.90191</td>\n      <td>6.092614e-03</td>\n      <td>1.0</td>\n      <td>0.003532</td>\n      <td>2</td>\n      <td>2.194218e-04</td>\n    </tr>\n    <tr>\n      <th>4</th>\n      <td>4</td>\n      <td>2</td>\n      <td>0.735159</td>\n      <td>0.000067</td>\n      <td>0.735877</td>\n      <td>1.401737e-04</td>\n      <td>1.0</td>\n      <td>0.000252</td>\n      <td>2</td>\n      <td>2.524136e-04</td>\n    </tr>\n  </tbody>\n</table>\n</div>"
     },
     "execution_count": 77,
     "metadata": {},
     "output_type": "execute_result"
    }
   ],
   "source": [
    "columns_to_normalize = ['deadline', 'goal', 'launched', 'pledged', 'state', 'backers', 'pledged_ratio']\n",
    "df[columns_to_normalize] = df[columns_to_normalize].apply(lambda x: (x - x.min()) / (x.max() - x.min()))\n",
    "df.head()"
   ],
   "metadata": {
    "collapsed": false,
    "pycharm": {
     "name": "#%%\n"
    }
   }
  },
  {
   "cell_type": "markdown",
   "source": [
    "Dla poprawności dalszych kroków można sprawdzić, czy któreś kolumny nie zawierają niepoprawnych/pustych danych"
   ],
   "metadata": {
    "collapsed": false,
    "pycharm": {
     "name": "#%% md\n"
    }
   }
  },
  {
   "cell_type": "code",
   "execution_count": 78,
   "outputs": [
    {
     "name": "stdout",
     "output_type": "stream",
     "text": [
      "\n",
      "Czy istnieją nieprawidłowe wartości w zbiorze danych: False\n",
      "\n"
     ]
    }
   ],
   "source": [
    "is_any_nan = False\n",
    "for column in all_csv_columns:\n",
    "    is_any_nan = is_any_nan or df[column].isnull().values.any()\n",
    "\n",
    "print(f'\\nCzy istnieją nieprawidłowe wartości w zbiorze danych: {is_any_nan}\\n')"
   ],
   "metadata": {
    "collapsed": false,
    "pycharm": {
     "name": "#%%\n"
    }
   }
  },
  {
   "cell_type": "markdown",
   "source": [
    "## Podział zbioru na dane uczące i dane testowe\n",
    "\n",
    "Do stworzenia systemu potrzebne są zarówno dane uczące --- te, z których algorytmy będą czerpały informacje o zależnościach, jak i dane testowe, wykorzystywane do sprawdzenia poprawności zaimplementowanych algorytmów. Podziału dokonano w stosunku 90/10"
   ],
   "metadata": {
    "collapsed": false
   }
  },
  {
   "cell_type": "code",
   "execution_count": 79,
   "outputs": [],
   "source": [
    "train_to_test_ratio = 0.1\n",
    "df_train, df_test = train_test_split(df, test_size=train_to_test_ratio)"
   ],
   "metadata": {
    "collapsed": false,
    "pycharm": {
     "name": "#%%\n"
    }
   }
  },
  {
   "cell_type": "markdown",
   "source": [
    "## Analiza PCA\n",
    "\n",
    "### Wybór ilości kolumn\n",
    "\n",
    "Analiza PCA pozwala oszacować jaką skuteczność będzie miał system dla danej ilości kolumn. Takie oszacowanie może być bardzo pomocne w wyborze optymalnej ilości kolumn. Jeżeli na podstawie posiadanych danych jesteśmy w stanie stworzyć system, który będzie cechował się skutecznością na poziomie 90% już dla 3 kolumn, to być może jest to wartość wystarczająca, zakładając, że na przykład dla 8 kolumn system będzie miał 93% skuteczności. Wtedy należy rozważyć, czy dodatkowa złożoność wynikająca z uwzględnienia większej ilości kolumn jest warta uzyskania dodatkowych 3 punktów procentowych skuteczności."
   ],
   "metadata": {
    "collapsed": false,
    "pycharm": {
     "name": "#%% md\n"
    }
   }
  },
  {
   "cell_type": "code",
   "execution_count": 80,
   "outputs": [
    {
     "data": {
      "text/plain": "<Figure size 936x648 with 1 Axes>",
      "image/png": "[encoded data removed]"
     },
     "metadata": {
      "needs_background": "light"
     },
     "output_type": "display_data"
    }
   ],
   "source": [
    "all_columns = [\n",
    "    'deadline',\n",
    "    'currency',\n",
    "    'pledged_ratio',\n",
    "    'state',\n",
    "    'pledged',\n",
    "    'backers',\n",
    "    'goal',\n",
    "    'main_category',\n",
    "    'country',\n",
    "    'launched',\n",
    "]\n",
    "\n",
    "features_columns = [\n",
    "    'deadline',\n",
    "    'currency',\n",
    "    'pledged_ratio',\n",
    "    'pledged',\n",
    "    'backers',\n",
    "    'goal',\n",
    "    'main_category',\n",
    "    'country',\n",
    "    'launched',\n",
    "]\n",
    "\n",
    "labels_columns = ['state']\n",
    "\n",
    "features = df_train[features_columns]\n",
    "labels = df_train[labels_columns]\n",
    "\n",
    "pca = PCA().fit(features, labels)\n",
    "plt.plot(np.cumsum(pca.explained_variance_ratio_), linewidth=5.0)\n",
    "plt.xlabel('Liczba kolumn')\n",
    "plt.ylabel('Możliwa skuteczność')\n",
    "plt.show()"
   ],
   "metadata": {
    "collapsed": false,
    "pycharm": {
     "name": "#%%\n"
    }
   }
  },
  {
   "cell_type": "markdown",
   "source": [
    "Na powyższym wykresie można zauważyć, że już dla 3 kolumn można osiągnąć maksymalną skuteczność, więc analizowanie większej ilości kolumn nie jest potrzebne. Co więcej, mogłoby to wprowadzić dodatkowy poziom złożoności i niepotrzebną konieczność wykonywania obliczeń i analiz."
   ],
   "metadata": {
    "collapsed": false
   }
  },
  {
   "cell_type": "markdown",
   "source": [
    "### Wybór kolumn do dalszej analizy\n",
    "\n",
    "W celu wybrania kolumn mających największy wpływ na przynależność do klasy można posłużyć się macierzą kowariancji. Na jej podstawie możliwe będzie stworzenie mapy ciepła, która w przejrzysty sposób zobrazuje zależności między poszczególnymi kolumnami\n",
    "\n",
    "#### Stworzenie macierzy kowariancji i wygenerowanie heatmapy"
   ],
   "metadata": {
    "collapsed": false
   }
  },
  {
   "cell_type": "code",
   "execution_count": 81,
   "outputs": [
    {
     "name": "stdout",
     "output_type": "stream",
     "text": [
      "0: deadline\n",
      "1: currency\n",
      "2: pledged_ratio\n",
      "3: state\n",
      "4: pledged\n",
      "5: backers\n",
      "6: goal\n",
      "7: main_category\n",
      "8: country\n",
      "9: launched\n"
     ]
    },
    {
     "data": {
      "text/plain": "<Figure size 936x648 with 2 Axes>",
      "image/png": "[encoded data removed]"
     },
     "metadata": {
      "needs_background": "light"
     },
     "output_type": "display_data"
    }
   ],
   "source": [
    "scaler = StandardScaler()\n",
    "features_scaled = scaler.fit_transform(df_train[all_columns])\n",
    "\n",
    "covariance_matrix = np.cov(features_scaled.T)\n",
    "\n",
    "columns_dict = create_label_number_dict(all_columns, True)\n",
    "for column in all_columns:\n",
    "    print(f'{columns_dict[column]}: {column}')\n",
    "\n",
    "fig, ax = plt.subplots(figsize=default_figsize)         # Sample figsize in inches\n",
    "sns.heatmap(covariance_matrix, annot=True, ax=ax);"
   ],
   "metadata": {
    "collapsed": false,
    "pycharm": {
     "name": "#%%\n"
    }
   }
  },
  {
   "cell_type": "markdown",
   "source": [
    "Kolumną decyzyjną jest kolumna numer 3 - jest to kolumna mówiąca o tym, czy projekt zakończył się porażką (1) czy sukcesem (2). Z mapy ciepła wynika korelacja następujących 3 kolumn z kolumną decyzyjną:\n",
    "\n",
    "|  Kolumna 1  |  Kolumna 2  | Kolumna 3 |\n",
    "|:-----------:|:-----------:|:---------:|\n",
    "| pledged (4) | backers (5) | goal (6)  |\n",
    "\n",
    "Na mapie widać inne mocne korelacje, np.:\n",
    "  - 0 i 9 (_deadline_ i launched) - kolumny traktujące o dacie rozpoczęcia i zakończenia zbiórki,\n",
    "  - 1 i 8 (_currency_ i _country_) - waluta i kraj\n",
    "  - 4 i 5 (_pledged_ i _backers_) - zebrana kwota i ilość wspierających\n",
    "\n",
    "Powyższe korelacje, mimo że są wysokie, nie wnoszą nic do analizowanego przykładu, dlatego, że nie da się\n",
    "\n",
    "Wobec tego do dalszej analizy będziemy używać tylko wybranych kolumn."
   ],
   "metadata": {
    "collapsed": false
   }
  },
  {
   "cell_type": "markdown",
   "source": [
    "## KNN\n",
    "\n",
    "### Model pojedynczego elementu"
   ],
   "metadata": {
    "collapsed": false
   }
  },
  {
   "cell_type": "code",
   "execution_count": 82,
   "outputs": [],
   "source": [
    "class Startup:\n",
    "    def __init__(self, dataframe_row):\n",
    "        self.pledged = dataframe_row['pledged']\n",
    "        self.backers = dataframe_row['backers']\n",
    "        self.pledged_ratio = dataframe_row['pledged_ratio']\n",
    "        self.state = dataframe_row['state']\n",
    "\n",
    "    def get_distance_from(self, startup):\n",
    "        return math.sqrt(\n",
    "            math.pow(self.pledged - startup.pledged, 2)\n",
    "            + math.pow(self.backers - startup.backers, 2)\n",
    "            + math.pow(self.pledged_ratio - startup.pledged_ratio, 2)\n",
    "        )\n",
    "\n",
    "    def to_string(self):\n",
    "        return f'pledged: {self.pledged}, backers: {self.backers}, pledged_ratio: {self.pledged_ratio}, state: {self.state}'"
   ],
   "metadata": {
    "collapsed": false,
    "pycharm": {
     "name": "#%%\n"
    }
   }
  },
  {
   "cell_type": "markdown",
   "source": [
    "### Model klasy bazowej"
   ],
   "metadata": {
    "collapsed": false
   }
  },
  {
   "cell_type": "code",
   "execution_count": 83,
   "outputs": [],
   "source": [
    "class KnnBase:\n",
    "    def __init__(self, df):\n",
    "        self.df = df\n",
    "        self.count = df['state'].count()\n",
    "        self.items_objects = self.create_startups_objects(df)\n",
    "\n",
    "    def create_startups_objects(self, df, clear_state=False):\n",
    "        count = df['state'].count()\n",
    "        objects = []\n",
    "        for i in range(0, count):\n",
    "            obj = Startup(df.iloc[i])\n",
    "            if clear_state:\n",
    "                obj.state = None\n",
    "            objects.append(obj)\n",
    "        return objects"
   ],
   "metadata": {
    "collapsed": false,
    "pycharm": {
     "name": "#%%\n"
    }
   }
  },
  {
   "cell_type": "markdown",
   "source": [
    "## KNN"
   ],
   "metadata": {
    "collapsed": false,
    "pycharm": {
     "name": "#%% md\n"
    }
   }
  },
  {
   "cell_type": "code",
   "execution_count": 84,
   "outputs": [],
   "source": [
    "class Knn(KnnBase):\n",
    "    def __init__(self, df):\n",
    "        super().__init__(df)\n",
    "\n",
    "    def classify(self, unknown, k, print_details=True):\n",
    "        measured_distances = []\n",
    "        k_closest = []\n",
    "\n",
    "        # Calculate distances\n",
    "        for i in range(0, len(self.items_objects)):\n",
    "            startup = self.items_objects[i]\n",
    "            distance = startup.get_distance_from(unknown)\n",
    "            measured_distances.append({ 'index': i, 'distance': distance, 'class': startup.state })\n",
    "\n",
    "        # Sort by lower distance\n",
    "        measured_distances = sorted(measured_distances, key=lambda item: item['distance'])\n",
    "\n",
    "        # Select the k closest neighbours\n",
    "        for i in range(0, k):\n",
    "            k_closest.append(measured_distances[i])\n",
    "\n",
    "        dominant_class = self.get_dominant_class(k_closest)\n",
    "        if print_details:\n",
    "            self.print_selected_closest_neighbours(k_closest)\n",
    "            print(f'Na podstawie {k} najbliższych sąsiadów, element należy do klasy {dominant_class}')\n",
    "\n",
    "        return dominant_class\n",
    "\n",
    "    def get_dominant_class(self, closest):\n",
    "        classes_dict = {}\n",
    "        for el in closest:\n",
    "            class_name = el[\"class\"]\n",
    "            if class_name not in classes_dict.keys():\n",
    "                classes_dict[class_name] = 0\n",
    "            current_class_count_value = int(classes_dict.get(class_name))\n",
    "            classes_dict[class_name] = current_class_count_value + 1\n",
    "\n",
    "        return max(classes_dict, key=classes_dict.get)\n",
    "\n",
    "\n",
    "\n",
    "    def get_all_classes(self, closest):\n",
    "        classes = []\n",
    "        for el in closest:\n",
    "            new_class = el['class']\n",
    "            if new_class not in classes:\n",
    "                classes.append(el['class'])\n",
    "        return classes\n",
    "\n",
    "    def print_selected_closest_neighbours(self, closest):\n",
    "        print(f'{len(closest)} najbliższych sąsiadów elementu')\n",
    "        lp = 1\n",
    "        for neighbour in closest:\n",
    "            print(f'  {lp}. Dystans: {neighbour[\"distance\"]} klasa:{neighbour[\"class\"]}')\n",
    "            lp += 1"
   ],
   "metadata": {
    "collapsed": false,
    "pycharm": {
     "name": "#%%\n"
    }
   }
  },
  {
   "cell_type": "markdown",
   "source": [
    "### Metryki dla klasyfikacji KNN"
   ],
   "metadata": {
    "collapsed": false
   }
  },
  {
   "cell_type": "code",
   "execution_count": 85,
   "outputs": [],
   "source": [
    "knn_k_means = Knn(df_train)\n",
    "\n",
    "test_data_size = df_test['state'].count()\n",
    "classified_correctly = 0\n",
    "\n",
    "expected_classes = []\n",
    "predicted_classes = []\n",
    "\n",
    "for i in range(0, test_data_size):\n",
    "    new_object = Startup(df_test.iloc[i])\n",
    "    expected_outcome = new_object.state\n",
    "    predicted_outcome = knn_k_means.classify(new_object, 7, False)\n",
    "\n",
    "    expected_classes.append(expected_outcome)\n",
    "    predicted_classes.append(predicted_outcome)\n",
    "\n",
    "    if predicted_outcome == expected_outcome:\n",
    "        classified_correctly += 1"
   ],
   "metadata": {
    "collapsed": false,
    "pycharm": {
     "name": "#%%\n"
    }
   }
  },
  {
   "cell_type": "code",
   "execution_count": 86,
   "outputs": [
    {
     "name": "stdout",
     "output_type": "stream",
     "text": [
      "              precision    recall  f1-score   support\n",
      "\n",
      "  successful       1.00      0.98      0.99       288\n",
      "      failed       0.97      1.00      0.98       212\n",
      "\n",
      "    accuracy                           0.98       500\n",
      "   macro avg       0.98      0.99      0.98       500\n",
      "weighted avg       0.98      0.98      0.98       500\n",
      "\n"
     ]
    },
    {
     "data": {
      "text/plain": "<Figure size 936x648 with 2 Axes>",
      "image/png": "[encoded data removed]"
     },
     "metadata": {
      "needs_background": "light"
     },
     "output_type": "display_data"
    }
   ],
   "source": [
    "print(classification_report(expected_classes, predicted_classes, target_names=['successful', 'failed']))\n",
    "\n",
    "cm = confusion_matrix(expected_classes, predicted_classes)\n",
    "disp = ConfusionMatrixDisplay(confusion_matrix=cm, display_labels=['successful', 'failed'])\n",
    "disp.plot()\n",
    "plt.show()"
   ],
   "metadata": {
    "collapsed": false,
    "pycharm": {
     "name": "#%%\n"
    }
   }
  },
  {
   "cell_type": "markdown",
   "source": [
    "## KNN - Centroidy"
   ],
   "metadata": {
    "collapsed": false,
    "pycharm": {
     "name": "#%% md\n"
    }
   }
  },
  {
   "cell_type": "code",
   "execution_count": 87,
   "outputs": [],
   "source": [
    "class KnnCentroids(KnnBase):\n",
    "    def __init__(self, df):\n",
    "        super().__init__(df)\n",
    "        self.clusters = []\n",
    "        self.create_startups_objects(df, True)\n",
    "        self.generate_random_clusters()\n",
    "\n",
    "    def train(self):\n",
    "        points_changed = self.match_point_to_clusters()\n",
    "        counter = 0\n",
    "        while points_changed and counter < 1000000:\n",
    "            counter += 1\n",
    "            self.reposition_clusters()\n",
    "            points_changed = self.match_point_to_clusters()\n",
    "\n",
    "    def generate_random_clusters(self):\n",
    "        clusters =  []\n",
    "        for i in [0, 1]:\n",
    "            pledged = rand.uniform(self.df['pledged'].min(), self.df['pledged'].max())\n",
    "            state = i\n",
    "            backers = rand.uniform(self.df['backers'].min(), self.df['backers'].max())\n",
    "            pledged_ratio = rand.uniform(self.df['pledged_ratio'].min(), self.df['pledged_ratio'].max())\n",
    "            clusters.append(\n",
    "                Startup(pd.Series({\n",
    "                    'pledged': pledged,\n",
    "                    'backers': backers,\n",
    "                    'pledged_ratio': pledged_ratio,\n",
    "                    'state': state,\n",
    "                }))\n",
    "            )\n",
    "\n",
    "        self.clusters = clusters\n",
    "\n",
    "    def reposition_clusters(self):\n",
    "        for cluster in self.clusters:\n",
    "            pledged_sum = 0\n",
    "            backers_sum = 0\n",
    "            pledged_ratio_sum = 0\n",
    "            count = 0\n",
    "\n",
    "            for item in self.items_objects:\n",
    "                if item.state == cluster.state:\n",
    "                    pledged_sum += item.pledged\n",
    "                    backers_sum += item.backers\n",
    "                    pledged_ratio_sum += item.pledged_ratio\n",
    "                    count += 1\n",
    "\n",
    "            if count > 0:\n",
    "                cluster.pledged = pledged_sum / count\n",
    "                cluster.backers = backers_sum / count\n",
    "                cluster.pledged_ratio = pledged_ratio_sum / count\n",
    "\n",
    "    def match_point_to_clusters(self):\n",
    "        changed = 0\n",
    "        for item in self.items_objects:\n",
    "            current_state = item.state\n",
    "            best_distance = None\n",
    "\n",
    "            for cluster in self.clusters:\n",
    "                if best_distance is None:\n",
    "                    best_distance = item.get_distance_from(cluster)\n",
    "                    new_state = cluster.state\n",
    "                else:\n",
    "                    new_distance = item.get_distance_from(cluster)\n",
    "                    if new_distance < best_distance:\n",
    "                        best_distance = new_distance\n",
    "                        new_state = cluster.state\n",
    "\n",
    "            if current_state != new_state:\n",
    "                item.state = new_state\n",
    "                changed += 1\n",
    "        return changed\n",
    "\n",
    "    def classify(self, item, print_result=True):\n",
    "        distance = None\n",
    "        item_class = None\n",
    "        for cluster in self.clusters:\n",
    "            new_distance = item.get_distance_from(cluster)\n",
    "            new_item_class = cluster.state\n",
    "\n",
    "            if distance is None:\n",
    "                distance = new_distance\n",
    "            if item_class is None:\n",
    "                item_class = new_item_class\n",
    "            if distance is not None and distance < new_distance:\n",
    "                item_class = new_item_class\n",
    "        if print_result:\n",
    "            print(f'Element sklasyfikowany jako {item_class}')\n",
    "\n",
    "        return item_class"
   ],
   "metadata": {
    "collapsed": false,
    "pycharm": {
     "name": "#%%\n"
    }
   }
  },
  {
   "cell_type": "markdown",
   "source": [
    "### Metryki klasyfikacji KNN dla centroidów"
   ],
   "metadata": {
    "collapsed": false,
    "pycharm": {
     "name": "#%% md\n"
    }
   }
  },
  {
   "cell_type": "code",
   "execution_count": 88,
   "outputs": [],
   "source": [
    "knn_centroids = KnnCentroids(df_train)\n",
    "knn_centroids.train()\n",
    "\n",
    "test_data_size = df_test['state'].count()\n",
    "classified_correctly = 0\n",
    "\n",
    "expected_classes = []\n",
    "predicted_classes = []\n",
    "\n",
    "for i in range(0, test_data_size):\n",
    "    new_object = Startup(df_test.iloc[i])\n",
    "    expected_outcome = new_object.state\n",
    "    predicted_outcome = knn_centroids.classify(new_object, False)\n",
    "\n",
    "    expected_classes.append(expected_outcome)\n",
    "    predicted_classes.append(predicted_outcome)\n",
    "\n",
    "    if predicted_outcome == expected_outcome:\n",
    "        classified_correctly += 1\n"
   ],
   "metadata": {
    "collapsed": false,
    "pycharm": {
     "name": "#%%\n"
    }
   }
  },
  {
   "cell_type": "code",
   "execution_count": 89,
   "outputs": [
    {
     "name": "stdout",
     "output_type": "stream",
     "text": [
      "              precision    recall  f1-score   support\n",
      "\n",
      "  successful       0.58      1.00      0.73       288\n",
      "      failed       1.00      0.00      0.01       212\n",
      "\n",
      "    accuracy                           0.58       500\n",
      "   macro avg       0.79      0.50      0.37       500\n",
      "weighted avg       0.76      0.58      0.43       500\n",
      "\n"
     ]
    },
    {
     "data": {
      "text/plain": "<Figure size 936x648 with 2 Axes>",
      "image/png": "[encoded data removed]"
     },
     "metadata": {
      "needs_background": "light"
     },
     "output_type": "display_data"
    }
   ],
   "source": [
    "print(classification_report(expected_classes, predicted_classes, target_names=['successful', 'failed']))\n",
    "\n",
    "cm = confusion_matrix(expected_classes, predicted_classes)\n",
    "disp = ConfusionMatrixDisplay(confusion_matrix=cm, display_labels=['successful', 'failed'])\n",
    "disp.plot()\n",
    "plt.show()"
   ],
   "metadata": {
    "collapsed": false,
    "pycharm": {
     "name": "#%%\n"
    }
   }
  },
  {
   "cell_type": "markdown",
   "source": [
    "## Histogramy dla kolumn"
   ],
   "metadata": {
    "collapsed": false
   }
  },
  {
   "cell_type": "markdown",
   "source": [
    "## Gauss dla kolumn"
   ],
   "metadata": {
    "collapsed": false,
    "pycharm": {
     "name": "#%% md\n"
    }
   }
  }
 ],
 "metadata": {
  "kernelspec": {
   "display_name": "Python 3",
   "language": "python",
   "name": "python3"
  },
  "language_info": {
   "codemirror_mode": {
    "name": "ipython",
    "version": 2
   },
   "file_extension": ".py",
   "mimetype": "text/x-python",
   "name": "python",
   "nbconvert_exporter": "python",
   "pygments_lexer": "ipython2",
   "version": "2.7.6"
  }
 },
 "nbformat": 4,
 "nbformat_minor": 0
}