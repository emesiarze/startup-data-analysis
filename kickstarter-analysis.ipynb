{
 "cells": [
  {
   "cell_type": "markdown",
   "source": [
    "# Analiza projektów kickstarter"
   ],
   "metadata": {
    "collapsed": false,
    "pycharm": {
     "name": "#%% md\n"
    }
   }
  },
  {
   "cell_type": "markdown",
   "source": [
    "## Przygotowanie bibliotek wykorzystywanych w systemie\n",
    "\n",
    "W systemie wykorzystywane są następujące biblioteki\n",
    "\n",
    "- **pandas** - odczyt, zapis i operacje na danych\n",
    "- **datetime** - operacje na datach\n",
    "- **sklearn** - funkcje wykorzytywane w analizie PCA\n",
    "- **math**, **numpy** - liczne funckje matematyczne\n",
    "- **seaborn** - graficzna reprezentacja danych\n",
    "- **random** - generowanie liczb losowych"
   ],
   "metadata": {
    "collapsed": false,
    "pycharm": {
     "name": "#%% md\n"
    }
   }
  },
  {
   "cell_type": "code",
   "source": [
    "import pandas as pd\n",
    "from datetime import datetime\n",
    "from sklearn.preprocessing import StandardScaler\n",
    "from sklearn.model_selection import train_test_split\n",
    "import math\n",
    "import numpy as np\n",
    "import seaborn as sns\n",
    "import random as rand"
   ],
   "metadata": {
    "collapsed": false,
    "pycharm": {
     "name": "#%%\n"
    }
   },
   "execution_count": 22,
   "outputs": []
  },
  {
   "cell_type": "markdown",
   "source": [
    "## Przygotowanie początkowych stanów systemu"
   ],
   "metadata": {
    "collapsed": false,
    "pycharm": {
     "name": "#%% md\n"
    }
   }
  },
  {
   "cell_type": "code",
   "source": [
    "# Skonfigurowanie maksymalnej liczby wyświetlanych kolumn\n",
    "pd.set_option('display.max_columns', 10)\n",
    "\n",
    "# Skonfigurowanie opcji wyświetlania\n",
    "pd.set_option('display.max_columns', 500)\n",
    "pd.set_option('display.width', 1000)\n",
    "\n",
    "# Parametry wykorzystywane przy wczytywaniu danych\n",
    "dataset_path = './data/kickstarter-projects-filtered.csv'\n",
    "encoding='ISO-8859-1'\n",
    "rows_number = 1000\n",
    "all_csv_columns = ['main_category', 'currency', 'deadline', 'goal', 'launched', 'pledged', 'state', 'backers', 'country']\n",
    "\n",
    "# Dane wykorzystywane przy przetwarzaniu danych\n",
    "all_columns = ['main_category', 'currency', 'deadline', 'goal', 'launched', 'pledged', 'state', 'backers', 'country', 'pledged_ratio']\n",
    "features_columns = ['main_category', 'deadline', 'goal', 'launched', 'pledged', 'backers', 'country', 'pledged_ratio']\n",
    "labels_columns = ['state']"
   ],
   "metadata": {
    "collapsed": false,
    "pycharm": {
     "name": "#%%\n"
    }
   },
   "execution_count": 23,
   "outputs": []
  },
  {
   "cell_type": "markdown",
   "source": [
    "## Przygotowanie danych"
   ],
   "metadata": {
    "collapsed": false,
    "pycharm": {
     "name": "#%% md\n"
    }
   }
  },
  {
   "cell_type": "markdown",
   "source": [
    " ### Wczytanie danych"
   ],
   "metadata": {
    "collapsed": false
   }
  },
  {
   "cell_type": "code",
   "source": [
    "df = pd.read_csv(dataset_path, encoding=encoding,low_memory=False).head(rows_number).filter(all_csv_columns, axis=1)\n",
    "print(df.head())"
   ],
   "metadata": {
    "collapsed": false,
    "pycharm": {
     "name": "#%%\n"
    }
   },
   "execution_count": 24,
   "outputs": [
    {
     "name": "stdout",
     "output_type": "stream",
     "text": [
      "  main_category currency        deadline     goal        launched  pledged       state  backers country\n",
      "0    Publishing      GBP  09-10-15 11:36   1000.0  11-08-15 12:12      0.0      failed        0      GB\n",
      "1  Film & Video      USD   26-02-13 0:20  45000.0   12-01-13 0:20    220.0      failed        3      US\n",
      "2         Music      USD   16-04-12 4:24   5000.0   17-03-12 3:24      1.0      failed        1      US\n",
      "3          Food      USD  01-04-16 13:38  50000.0  26-02-16 13:38  52375.0  successful      224      US\n",
      "4          Food      USD  21-12-14 18:30   1000.0  01-12-14 18:30   1205.0  successful       16      US\n"
     ]
    }
   ]
  },
  {
   "cell_type": "markdown",
   "source": [
    "### Konwersja danych tekstowych na dane liczbowe\n",
    "\n",
    "Aby dane mogły zostać poprawnie przetworzone w dalszych krokach przy użyciu metody PCA, dane tekstowe należy zamienić na dane liczbowe. Do tego celu można wykorzystać słowniki. Algorytm konwersji jest następujący:\n",
    "- zebrać wszystkie wartości występujące w danej kolumnie\n",
    "- przyporządkować każdej wartości kolejną liczbę naturalną rozpoczynając od jedynki."
   ],
   "metadata": {
    "collapsed": false
   }
  },
  {
   "cell_type": "markdown",
   "source": [
    "#### Metody pomocnicze"
   ],
   "metadata": {
    "collapsed": false,
    "pycharm": {
     "name": "#%% md\n"
    }
   }
  },
  {
   "cell_type": "code",
   "execution_count": 25,
   "outputs": [],
   "source": [
    "def get_all_values_from_column(df, col_name):\n",
    "    values = []\n",
    "    for i in range(0, len(df[col_name])):\n",
    "        category = df[col_name][i]\n",
    "        if category not in values:\n",
    "            values.append(category)\n",
    "\n",
    "    return values\n",
    "\n",
    "\n",
    "def create_label_number_dict(names, start_from_zero = False):\n",
    "    normalized = {}\n",
    "    zero_margin = 1 - int(start_from_zero)\n",
    "    for i in range(0, len(names)):\n",
    "        name = names[i]\n",
    "        normalized[name] = i + zero_margin\n",
    "\n",
    "    return normalized\n",
    "\n",
    "def map_text_to_number(df, column_name, dict):\n",
    "    mapped = pd.Series(df[column_name].map(dict), name=column_name)\n",
    "    df.update(mapped)\n",
    "\n",
    "    return df"
   ],
   "metadata": {
    "collapsed": false,
    "pycharm": {
     "name": "#%%\n"
    }
   }
  },
  {
   "cell_type": "markdown",
   "source": [
    "#### Zbieranie danych i tworzenie słowników"
   ],
   "metadata": {
    "collapsed": false,
    "pycharm": {
     "name": "#%% md\n"
    }
   }
  },
  {
   "cell_type": "code",
   "execution_count": 26,
   "outputs": [],
   "source": [
    "categories = get_all_values_from_column(df, 'main_category')\n",
    "countries = get_all_values_from_column(df, 'country')\n",
    "states = get_all_values_from_column(df, 'state')\n",
    "currencies = get_all_values_from_column(df, 'currency')\n",
    "\n",
    "categories_dict = create_label_number_dict(categories)\n",
    "countries_dict = create_label_number_dict(countries)\n",
    "states_dict = create_label_number_dict(states)\n",
    "currencies_dict = create_label_number_dict(currencies)"
   ],
   "metadata": {
    "collapsed": false,
    "pycharm": {
     "name": "#%%\n"
    }
   }
  },
  {
   "cell_type": "markdown",
   "source": [
    "#### Konwersja"
   ],
   "metadata": {
    "collapsed": false
   }
  },
  {
   "cell_type": "code",
   "execution_count": 27,
   "outputs": [],
   "source": [
    "# Map string values to number values\n",
    "df = map_text_to_number(df, 'main_category', categories_dict)\n",
    "df = map_text_to_number(df, 'country', countries_dict)\n",
    "df = map_text_to_number(df, 'state', states_dict)\n",
    "df = map_text_to_number(df, 'currency', currencies_dict)"
   ],
   "metadata": {
    "collapsed": false,
    "pycharm": {
     "name": "#%%\n"
    }
   }
  },
  {
   "cell_type": "markdown",
   "source": [
    "### Konwersja dat na dane liczbowe\n",
    "\n",
    "W przypadku dat przyjęto strategię reprezentacji ich jako **timestamp**"
   ],
   "metadata": {
    "collapsed": false
   }
  },
  {
   "cell_type": "markdown",
   "source": [
    "#### Metody pomocnicze"
   ],
   "metadata": {
    "collapsed": false
   }
  },
  {
   "cell_type": "code",
   "source": [
    "def date_to_timestamp(dt):\n",
    "    return int(datetime.strptime(dt, \"%d-%m-%y %H:%M\").timestamp())\n",
    "\n",
    "\n",
    "def map_date_to_timestamp(df, column_names):\n",
    "    for column_name in column_names:\n",
    "        mapped = pd.Series(df[column_name].map(date_to_timestamp), name=column_name)\n",
    "        df.update(mapped)\n",
    "\n",
    "    return df"
   ],
   "metadata": {
    "collapsed": false,
    "pycharm": {
     "name": "#%%\n"
    }
   },
   "execution_count": 28,
   "outputs": []
  },
  {
   "cell_type": "markdown",
   "source": [
    "#### Konwersja"
   ],
   "metadata": {
    "collapsed": false
   }
  },
  {
   "cell_type": "code",
   "execution_count": 29,
   "outputs": [],
   "source": [
    "df = map_date_to_timestamp(df, ['launched', 'deadline'])"
   ],
   "metadata": {
    "collapsed": false,
    "pycharm": {
     "name": "#%%\n"
    }
   }
  },
  {
   "cell_type": "markdown",
   "source": [
    "### Dodanie sztucznej kolumny _pledged_ratio_\n",
    "\n",
    "Kolumna ma określić jaki procent założonej sumy został zebrany"
   ],
   "metadata": {
    "collapsed": false
   }
  },
  {
   "cell_type": "code",
   "execution_count": 30,
   "outputs": [],
   "source": [
    "df['pledged_ratio'] = df['pledged'].astype(float) / df['goal'].astype(float) * 100"
   ],
   "metadata": {
    "collapsed": false,
    "pycharm": {
     "name": "#%%\n"
    }
   }
  },
  {
   "cell_type": "markdown",
   "source": [
    "### Normalizowanie danych"
   ],
   "metadata": {
    "collapsed": false
   }
  },
  {
   "cell_type": "code",
   "execution_count": 31,
   "outputs": [
    {
     "data": {
      "text/plain": "  main_category currency  deadline      goal  launched   pledged state   backers country  pledged_ratio\n0             1        1  0.843787  0.000333  0.829356  0.000000   0.0  0.000000       1   0.000000e+00\n1             2        2  0.489777  0.015000  0.481186  0.000261   0.0  0.000359       2   8.637613e-06\n2             3        2  0.372739  0.001666  0.369917  0.000001   0.0  0.000120       2   3.533569e-07\n3             4        2   0.90866  0.016666  0.902988  0.062075   1.0  0.026823       2   1.850707e-03\n4             4        2  0.735716  0.000333  0.735904  0.001428   1.0  0.001916       2   2.128975e-03",
      "text/html": "<div>\n<style scoped>\n    .dataframe tbody tr th:only-of-type {\n        vertical-align: middle;\n    }\n\n    .dataframe tbody tr th {\n        vertical-align: top;\n    }\n\n    .dataframe thead th {\n        text-align: right;\n    }\n</style>\n<table border=\"1\" class=\"dataframe\">\n  <thead>\n    <tr style=\"text-align: right;\">\n      <th></th>\n      <th>main_category</th>\n      <th>currency</th>\n      <th>deadline</th>\n      <th>goal</th>\n      <th>launched</th>\n      <th>pledged</th>\n      <th>state</th>\n      <th>backers</th>\n      <th>country</th>\n      <th>pledged_ratio</th>\n    </tr>\n  </thead>\n  <tbody>\n    <tr>\n      <th>0</th>\n      <td>1</td>\n      <td>1</td>\n      <td>0.843787</td>\n      <td>0.000333</td>\n      <td>0.829356</td>\n      <td>0.000000</td>\n      <td>0.0</td>\n      <td>0.000000</td>\n      <td>1</td>\n      <td>0.000000e+00</td>\n    </tr>\n    <tr>\n      <th>1</th>\n      <td>2</td>\n      <td>2</td>\n      <td>0.489777</td>\n      <td>0.015000</td>\n      <td>0.481186</td>\n      <td>0.000261</td>\n      <td>0.0</td>\n      <td>0.000359</td>\n      <td>2</td>\n      <td>8.637613e-06</td>\n    </tr>\n    <tr>\n      <th>2</th>\n      <td>3</td>\n      <td>2</td>\n      <td>0.372739</td>\n      <td>0.001666</td>\n      <td>0.369917</td>\n      <td>0.000001</td>\n      <td>0.0</td>\n      <td>0.000120</td>\n      <td>2</td>\n      <td>3.533569e-07</td>\n    </tr>\n    <tr>\n      <th>3</th>\n      <td>4</td>\n      <td>2</td>\n      <td>0.90866</td>\n      <td>0.016666</td>\n      <td>0.902988</td>\n      <td>0.062075</td>\n      <td>1.0</td>\n      <td>0.026823</td>\n      <td>2</td>\n      <td>1.850707e-03</td>\n    </tr>\n    <tr>\n      <th>4</th>\n      <td>4</td>\n      <td>2</td>\n      <td>0.735716</td>\n      <td>0.000333</td>\n      <td>0.735904</td>\n      <td>0.001428</td>\n      <td>1.0</td>\n      <td>0.001916</td>\n      <td>2</td>\n      <td>2.128975e-03</td>\n    </tr>\n  </tbody>\n</table>\n</div>"
     },
     "execution_count": 31,
     "metadata": {},
     "output_type": "execute_result"
    },
    {
     "data": {
      "text/plain": "<Figure size 720x720 with 4 Axes>",
      "image/png": "[encoded data removed]"
     },
     "metadata": {
      "needs_background": "light"
     },
     "output_type": "display_data"
    }
   ],
   "source": [
    "df.hist(figsize=(10,10))\n",
    "colums_to_normalize = ['deadline', 'goal', 'launched', 'pledged', 'state', 'backers', 'pledged_ratio']\n",
    "df[colums_to_normalize] = df[colums_to_normalize].apply(lambda x: (x - x.min()) / (x.max() - x.min()))\n",
    "df.head()"
   ],
   "metadata": {
    "collapsed": false,
    "pycharm": {
     "name": "#%%\n"
    }
   }
  },
  {
   "cell_type": "markdown",
   "source": [
    "Dla poprawności dalszych kroków można sprawdzić, czy któreś kolumny nie zawierają niepoprawnych/pustych danych"
   ],
   "metadata": {
    "collapsed": false,
    "pycharm": {
     "name": "#%% md\n"
    }
   }
  },
  {
   "cell_type": "code",
   "execution_count": 32,
   "outputs": [
    {
     "name": "stdout",
     "output_type": "stream",
     "text": [
      "\n",
      "Czy istnieją nieprawidłowe wartości w zbiorze danych: False\n",
      "\n"
     ]
    }
   ],
   "source": [
    "is_any_nan = False\n",
    "for column in all_csv_columns:\n",
    "    is_any_nan = is_any_nan or df[column].isnull().values.any()\n",
    "\n",
    "print(f'\\nCzy istnieją nieprawidłowe wartości w zbiorze danych: {is_any_nan}\\n')"
   ],
   "metadata": {
    "collapsed": false,
    "pycharm": {
     "name": "#%%\n"
    }
   }
  },
  {
   "cell_type": "markdown",
   "source": [
    "## Podział zbioru na dane uczące i dane testowe\n",
    "\n",
    "Podziału dokonano w stosunku 70/30"
   ],
   "metadata": {
    "collapsed": false
   }
  },
  {
   "cell_type": "code",
   "execution_count": 33,
   "outputs": [],
   "source": [
    "df_train, df_test = train_test_split(df, test_size=0.3)"
   ],
   "metadata": {
    "collapsed": false,
    "pycharm": {
     "name": "#%%\n"
    }
   }
  },
  {
   "cell_type": "markdown",
   "source": [
    "## Wybór cech i etykiet\n"
   ],
   "metadata": {
    "collapsed": false
   }
  },
  {
   "cell_type": "code",
   "execution_count": 34,
   "outputs": [],
   "source": [
    "features = df_train[all_columns]"
   ],
   "metadata": {
    "collapsed": false,
    "pycharm": {
     "name": "#%%\n"
    }
   }
  },
  {
   "cell_type": "markdown",
   "source": [
    "## Analiza PCA\n",
    "\n",
    "TODO: Parę słów o analizie PCA\n"
   ],
   "metadata": {
    "collapsed": false,
    "pycharm": {
     "name": "#%% md\n"
    }
   }
  },
  {
   "cell_type": "markdown",
   "source": [
    "### Przeskalowanie wartości"
   ],
   "metadata": {
    "collapsed": false
   }
  },
  {
   "cell_type": "code",
   "execution_count": 35,
   "outputs": [],
   "source": [
    "scaler = StandardScaler()\n",
    "features_scaled = scaler.fit_transform(features)"
   ],
   "metadata": {
    "collapsed": false,
    "pycharm": {
     "name": "#%%\n"
    }
   }
  },
  {
   "cell_type": "markdown",
   "source": [
    "### Stworzenie macierzy kowariancji i wygenerowanie heatmapy"
   ],
   "metadata": {
    "collapsed": false
   }
  },
  {
   "cell_type": "code",
   "execution_count": 36,
   "outputs": [
    {
     "name": "stdout",
     "output_type": "stream",
     "text": [
      "{'main_category': 0, 'currency': 1, 'deadline': 2, 'goal': 3, 'launched': 4, 'pledged': 5, 'state': 6, 'backers': 7, 'country': 8, 'pledged_ratio': 9}\n"
     ]
    },
    {
     "data": {
      "text/plain": "<Figure size 432x288 with 2 Axes>",
      "image/png": "[encoded data removed]"
     },
     "metadata": {
      "needs_background": "light"
     },
     "output_type": "display_data"
    }
   ],
   "source": [
    "covariance_matrix = np.cov(features_scaled.T)\n",
    "\n",
    "columns_dict = create_label_number_dict(all_columns, True)\n",
    "print(columns_dict)\n",
    "sns.heatmap(covariance_matrix, annot=True);"
   ],
   "metadata": {
    "collapsed": false,
    "pycharm": {
     "name": "#%%\n"
    }
   }
  },
  {
   "cell_type": "markdown",
   "source": [
    "Kolumną decyzyjną jest kolumna numer 6 - jest to kolumna mówiąca o tym, czy startap zakończył porażką (1) czy sukcesem (2)\n",
    "Z heatmapy wynika korelacja następujących 3 kolumn z kolumną decyzyjną:\n",
    "\n",
    "|  Kolumna 1  |  Kolumna 2  |     Kolumna 3     |\n",
    "|:-----------:|:-----------:|:-----------------:|\n",
    "| pledged (5) | backers (7) | pledged_ratio (9) |"
   ],
   "metadata": {
    "collapsed": false
   }
  },
  {
   "cell_type": "markdown",
   "source": [
    "### Wartości i wektory Eigena"
   ],
   "metadata": {
    "collapsed": false
   }
  },
  {
   "cell_type": "code",
   "source": [
    "eigen_values, eigen_vectors = np.linalg.eig(covariance_matrix)\n",
    "print(eigen_values)"
   ],
   "metadata": {
    "collapsed": false,
    "pycharm": {
     "name": "#%%\n"
    }
   },
   "execution_count": 37,
   "outputs": [
    {
     "name": "stdout",
     "output_type": "stream",
     "text": [
      "[2.45535144e+00 1.95672982e+00 1.49437649e+00 1.11911123e+00\n",
      " 1.03373679e+00 8.59374864e-01 7.28685520e-01 2.54633190e-01\n",
      " 1.12102809e-01 2.04004960e-04]\n"
     ]
    }
   ]
  },
  {
   "cell_type": "markdown",
   "source": [
    "## KNN\n",
    "\n",
    "### Model of a single element"
   ],
   "metadata": {
    "collapsed": false
   }
  },
  {
   "cell_type": "code",
   "execution_count": 38,
   "outputs": [],
   "source": [
    "class Startup:\n",
    "    def __init__(self, dataframe_row):\n",
    "        self.main_category = dataframe_row['main_category']\n",
    "        self.currency = dataframe_row['currency']\n",
    "        self.deadline = dataframe_row['deadline']\n",
    "        self.goal = dataframe_row['goal']\n",
    "        self.launched = dataframe_row['launched']\n",
    "        self.pledged = dataframe_row['pledged']\n",
    "        self.state = dataframe_row['state']\n",
    "        self.backers = dataframe_row['backers']\n",
    "        self.country = dataframe_row['country']\n",
    "        self.pledged_ratio = dataframe_row['pledged_ratio']\n",
    "\n",
    "    def get_distance_from(self, startup):\n",
    "        return math.sqrt(\n",
    "            math.pow(self.main_category - startup.main_category, 2)\n",
    "            + math.pow(self.currency - startup.currency, 2)\n",
    "            + math.pow(self.deadline - startup.deadline, 2)\n",
    "            + math.pow(self.goal - startup.goal, 2)\n",
    "            + math.pow(self.launched - startup.launched, 2)\n",
    "            + math.pow(self.pledged - startup.pledged, 2)\n",
    "            + math.pow(self.backers - startup.backers, 2)\n",
    "            + math.pow(self.country - startup.country, 2)\n",
    "            + math.pow(self.pledged_ratio - startup.pledged_ratio, 2)\n",
    "        )\n",
    "\n",
    "    def to_string(self):\n",
    "        return f'category: {self.main_category}, state: {self.state}'"
   ],
   "metadata": {
    "collapsed": false,
    "pycharm": {
     "name": "#%%\n"
    }
   }
  },
  {
   "cell_type": "markdown",
   "source": [],
   "metadata": {
    "collapsed": false
   }
  },
  {
   "cell_type": "code",
   "execution_count": 39,
   "outputs": [],
   "source": [
    "class KnnBase:\n",
    "    def __init__(self, df):\n",
    "        self.df = df\n",
    "        self.count = df['state'].count()\n",
    "        self.items_objects = self.create_startups_objects(df)\n",
    "\n",
    "    def create_startups_objects(self, df, clear_state=False):\n",
    "        count = df['state'].count()\n",
    "        objects = []\n",
    "        for i in range(0, count):\n",
    "            obj = Startup(df.iloc[i])\n",
    "            if clear_state:\n",
    "                obj.state = None\n",
    "            objects.append(obj)\n",
    "        return objects"
   ],
   "metadata": {
    "collapsed": false,
    "pycharm": {
     "name": "#%%\n"
    }
   }
  },
  {
   "cell_type": "markdown",
   "source": [
    "## KNN K-means"
   ],
   "metadata": {
    "collapsed": false,
    "pycharm": {
     "name": "#%% md\n"
    }
   }
  },
  {
   "cell_type": "code",
   "execution_count": 40,
   "outputs": [],
   "source": [
    "class KnnKMeans(KnnBase):\n",
    "    def __init__(self, df):\n",
    "        super().__init__(df)\n",
    "\n",
    "    def classify(self, unknown, k):\n",
    "        measured_distances = []\n",
    "        k_closest = []\n",
    "\n",
    "        # Calculate distances\n",
    "        for i in range(0, len(self.items_objects)):\n",
    "            startup = self.items_objects[i]\n",
    "            distance = startup.get_distance_from(unknown)\n",
    "            measured_distances.append({ 'index': i, 'distance': distance, 'class': startup.state })\n",
    "\n",
    "        # Sort by lower distance\n",
    "        measured_distances = sorted(measured_distances, key=lambda item: item['distance'])\n",
    "\n",
    "        # Select the k closest neighbours\n",
    "        for i in range(0, k):\n",
    "            k_closest.append(measured_distances[i])\n",
    "\n",
    "        dominant_class = self.get_dominant_class(k_closest)\n",
    "        self.print_selected_closest_neighbours(k_closest)\n",
    "        print(f'Based on {k} nearest neighbours, the unknown element belongs to \\'{dominant_class}\\' class ')\n",
    "\n",
    "    def get_dominant_class(self, closest):\n",
    "        classes_dict = {}\n",
    "        for el in closest:\n",
    "            class_name = el[\"class\"]\n",
    "            if class_name not in classes_dict.keys():\n",
    "                classes_dict[class_name] = 0\n",
    "            current_class_count_value = int(classes_dict.get(class_name))\n",
    "            classes_dict[class_name] = current_class_count_value + 1\n",
    "\n",
    "        return max(classes_dict, key=classes_dict.get)\n",
    "\n",
    "\n",
    "\n",
    "    def get_all_classes(self, closest):\n",
    "        classes = []\n",
    "        for el in closest:\n",
    "            new_class = el['class']\n",
    "            if new_class not in classes:\n",
    "                classes.append(el['class'])\n",
    "        return classes\n",
    "\n",
    "    def print_selected_closest_neighbours(self, closest):\n",
    "        print(f'The {len(closest)} closest neighbours of given element')\n",
    "        lp = 1\n",
    "        for neighbour in closest:\n",
    "            print(f'  {lp}. Distance: {neighbour[\"distance\"]} class:{neighbour[\"class\"]}')\n",
    "            lp += 1"
   ],
   "metadata": {
    "collapsed": false,
    "pycharm": {
     "name": "#%%\n"
    }
   }
  },
  {
   "cell_type": "code",
   "execution_count": 41,
   "outputs": [
    {
     "name": "stdout",
     "output_type": "stream",
     "text": [
      "The 7 closest neighbours of given element\n",
      "  1. Distance: 0.0 class:0.0\n",
      "  2. Distance: 0.004359798796096516 class:0.0\n",
      "  3. Distance: 0.007857689056950235 class:0.0\n",
      "  4. Distance: 0.011185198570230405 class:1.0\n",
      "  5. Distance: 0.013249906659424007 class:0.0\n",
      "  6. Distance: 0.024799720381721437 class:0.0\n",
      "  7. Distance: 0.028032961017601138 class:1.0\n",
      "Based on 7 nearest neighbours, the unknown element belongs to '0.0' class \n"
     ]
    }
   ],
   "source": [
    "unknown = df_train.loc[400]\n",
    "knn = KnnKMeans(df_train)\n",
    "knn.classify(unknown, 7)"
   ],
   "metadata": {
    "collapsed": false,
    "pycharm": {
     "name": "#%%\n"
    }
   }
  },
  {
   "cell_type": "markdown",
   "source": [
    "## KNN - Centroids"
   ],
   "metadata": {
    "collapsed": false,
    "pycharm": {
     "name": "#%% md\n"
    }
   }
  },
  {
   "cell_type": "code",
   "execution_count": 42,
   "outputs": [
    {
     "name": "stdout",
     "output_type": "stream",
     "text": [
      "====== Classifying ======\n",
      "category: 89, state: 0.0\n",
      "category: 3992, state: 1.0\n",
      "1 iteration points changed: 22\n",
      "category: 4081, state: 0.0\n",
      "category: 3992, state: 1.0\n",
      "2 iteration points changed: 700\n",
      "category: 4081, state: 0.0\n",
      "category: 4081, state: 1.0\n",
      "3 iteration points changed: 0\n"
     ]
    }
   ],
   "source": [
    "class KnnCentroids(KnnBase):\n",
    "    def __init__(self, df):\n",
    "        super().__init__(df)\n",
    "        self.create_startups_objects(df, True)\n",
    "\n",
    "    def classify(self):\n",
    "        clusters = self.generate_random_clusters()\n",
    "        print('====== Classifying ======')\n",
    "        points_changed = self.match_point_to_clusters(clusters)\n",
    "        counter = 0\n",
    "        while points_changed and counter < 1000000:\n",
    "            counter += 1\n",
    "            self.reposition_clusters(clusters)\n",
    "            points_changed = self.match_point_to_clusters(clusters)\n",
    "            for cluster in clusters:\n",
    "                print(cluster.to_string())\n",
    "            print(f'{counter} iteration points changed: {points_changed}')\n",
    "\n",
    "    def generate_random_clusters(self):\n",
    "        clusters =  []\n",
    "        for i in [0, 1]:\n",
    "            main_category = rand.randint(self.df['main_category'].min(), self.df['main_category'].max())\n",
    "            currency = rand.randint(self.df['currency'].min(), self.df['currency'].max())\n",
    "            deadline = rand.uniform(self.df['deadline'].min(), self.df['deadline'].max())\n",
    "            goal = rand.uniform(self.df['goal'].min(), self.df['goal'].max())\n",
    "            launched = rand.uniform(self.df['launched'].min(), self.df['launched'].max())\n",
    "            pledged = rand.uniform(self.df['pledged'].min(), self.df['pledged'].max())\n",
    "            state = i\n",
    "            backers = rand.uniform(self.df['backers'].min(), self.df['backers'].max())\n",
    "            country = rand.randint(self.df['country'].min(), self.df['country'].max())\n",
    "            pledged_ratio = rand.uniform(self.df['pledged_ratio'].min(), self.df['pledged_ratio'].max())\n",
    "            clusters.append(\n",
    "                Startup(pd.Series({\n",
    "                    'main_category': main_category,\n",
    "                    'currency': currency,\n",
    "                    'deadline': deadline,\n",
    "                    'goal': goal,\n",
    "                    'launched': launched,\n",
    "                    'pledged': pledged,\n",
    "                    'state': state,\n",
    "                    'backers': backers,\n",
    "                    'country': country,\n",
    "                    'pledged_ratio': pledged_ratio,\n",
    "                }))\n",
    "            )\n",
    "\n",
    "        return clusters\n",
    "\n",
    "    def reposition_clusters(self, clusters):\n",
    "        for cluster in clusters:\n",
    "            avg_main_category = 0\n",
    "            avg_currency = 0\n",
    "            avg_deadline = 0\n",
    "            avg_goal = 0\n",
    "            avg_launched = 0\n",
    "            avg_pledged = 0\n",
    "            avg_backers = 0\n",
    "            avg_country = 0\n",
    "            avg_pledged_ratio = 0\n",
    "            count = 0\n",
    "\n",
    "            for j in range(0, len(self.items_objects)):\n",
    "                if self.items_objects[j].state == cluster.state:\n",
    "                    avg_main_category += self.items_objects[j].main_category\n",
    "                    avg_currency += self.items_objects[j].currency\n",
    "                    avg_deadline += self.items_objects[j].deadline\n",
    "                    avg_goal += self.items_objects[j].goal\n",
    "                    avg_launched += self.items_objects[j].launched\n",
    "                    avg_pledged += self.items_objects[j].pledged\n",
    "                    avg_backers += self.items_objects[j].backers\n",
    "                    avg_country += self.items_objects[j].country\n",
    "                    avg_pledged_ratio += self.items_objects[j].pledged_ratio\n",
    "                    count += 1\n",
    "\n",
    "            if count > 0:\n",
    "                cluster.main_category = avg_main_category\n",
    "                cluster.currency = avg_currency\n",
    "                cluster.deadline = avg_deadline\n",
    "                cluster.goal = avg_goal\n",
    "                cluster.launched = avg_launched\n",
    "                cluster.pledged = avg_pledged\n",
    "                cluster.backers = avg_backers\n",
    "                cluster.country = avg_country\n",
    "                cluster.pledged_ratio = avg_pledged_ratio\n",
    "\n",
    "    def match_point_to_clusters(self, clusters):\n",
    "        changed = 0\n",
    "        for item in self.items_objects:\n",
    "            current_distance = None\n",
    "            current_state = item.state\n",
    "            new_state = None\n",
    "\n",
    "            for cluster in clusters:\n",
    "                new_state = cluster.state\n",
    "                new_distance = item.get_distance_from(cluster)\n",
    "                if current_distance is None:\n",
    "                    current_distance = new_distance + 1\n",
    "                if new_distance < current_distance:\n",
    "                    item.state = new_state\n",
    "\n",
    "            if current_state != new_state:\n",
    "                changed += 1\n",
    "\n",
    "        return changed\n",
    "\n",
    "\n",
    "knnCentroids = KnnCentroids(df_train)\n",
    "knnCentroids.classify()"
   ],
   "metadata": {
    "collapsed": false,
    "pycharm": {
     "name": "#%%\n"
    }
   }
  },
  {
   "cell_type": "code",
   "execution_count": 42,
   "outputs": [],
   "source": [],
   "metadata": {
    "collapsed": false,
    "pycharm": {
     "name": "#%%\n"
    }
   }
  }
 ],
 "metadata": {
  "kernelspec": {
   "display_name": "Python 3",
   "language": "python",
   "name": "python3"
  },
  "language_info": {
   "codemirror_mode": {
    "name": "ipython",
    "version": 2
   },
   "file_extension": ".py",
   "mimetype": "text/x-python",
   "name": "python",
   "nbconvert_exporter": "python",
   "pygments_lexer": "ipython2",
   "version": "2.7.6"
  }
 },
 "nbformat": 4,
 "nbformat_minor": 0
}