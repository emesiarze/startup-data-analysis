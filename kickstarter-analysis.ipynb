{
 "cells": [
  {
   "cell_type": "markdown",
   "source": [
    "# Analiza projektów kickstarter"
   ],
   "metadata": {
    "collapsed": false,
    "pycharm": {
     "name": "#%% md\n"
    }
   }
  },
  {
   "cell_type": "markdown",
   "source": [
    "## Przygotowanie bibliotek wykorzystywanych w systemie\n",
    "\n",
    "W systemie wykorzystywane są następujące biblioteki\n",
    "\n",
    "- **pandas** - odczyt, zapis i operacje na danych\n",
    "- **datetime** - operacje na datach\n",
    "- **sklearn** - funkcje wykorzytywane w analizie PCA\n",
    "- **math**, **numpy** - liczne funckje matematyczne\n",
    "- **seaborn** - graficzna reprezentacja danych"
   ],
   "metadata": {
    "collapsed": false,
    "pycharm": {
     "name": "#%% md\n"
    }
   }
  },
  {
   "cell_type": "code",
   "source": [
    "import pandas as pd\n",
    "from datetime import datetime\n",
    "from sklearn.preprocessing import StandardScaler\n",
    "import math\n",
    "import numpy as np\n",
    "import seaborn as sns"
   ],
   "metadata": {
    "collapsed": false,
    "pycharm": {
     "name": "#%%\n"
    }
   },
   "execution_count": 673,
   "outputs": []
  },
  {
   "cell_type": "markdown",
   "source": [
    "## Przygotowanie początkowych stanów systemu"
   ],
   "metadata": {
    "collapsed": false,
    "pycharm": {
     "name": "#%% md\n"
    }
   }
  },
  {
   "cell_type": "code",
   "source": [
    "# Skonfigurowanie maksymalnej liczby wyświetlanych kolumn\n",
    "pd.set_option('display.max_columns', 10)\n",
    "\n",
    "# Skonfigurowanie opcji wyświetlania\n",
    "pd.set_option('display.max_columns', 500)\n",
    "pd.set_option('display.width', 1000)\n",
    "\n",
    "# Parametry wykorzystywane przy wczytywaniu danych\n",
    "dataset_path = './data/kickstarter-projects-filtered.csv'\n",
    "encoding='ISO-8859-1'\n",
    "rows_number = 1000\n",
    "all_csv_columns = ['main_category', 'currency', 'deadline', 'goal', 'launched', 'pledged', 'state', 'backers', 'country']\n",
    "\n",
    "# Dane wykorzystywane przy przetwarzaniu danych\n",
    "all_columns = ['main_category', 'currency', 'deadline', 'goal', 'launched', 'pledged', 'state', 'backers', 'country', 'pledged_ratio']\n",
    "features_columns = ['main_category', 'deadline', 'goal', 'launched', 'pledged', 'backers', 'country', 'pledged_ratio']\n",
    "labels_columns = ['state']"
   ],
   "metadata": {
    "collapsed": false,
    "pycharm": {
     "name": "#%%\n"
    }
   },
   "execution_count": 674,
   "outputs": []
  },
  {
   "cell_type": "markdown",
   "source": [
    "## Przygotowanie danych"
   ],
   "metadata": {
    "collapsed": false,
    "pycharm": {
     "name": "#%% md\n"
    }
   }
  },
  {
   "cell_type": "markdown",
   "source": [
    " ### Wczytanie danych"
   ],
   "metadata": {
    "collapsed": false
   }
  },
  {
   "cell_type": "code",
   "source": [
    "df = pd.read_csv(dataset_path, encoding=encoding,low_memory=False).head(rows_number).filter(all_csv_columns, axis=1)\n",
    "print(df.head())"
   ],
   "metadata": {
    "collapsed": false,
    "pycharm": {
     "name": "#%%\n"
    }
   },
   "execution_count": 675,
   "outputs": [
    {
     "name": "stdout",
     "output_type": "stream",
     "text": [
      "  main_category currency        deadline     goal        launched  pledged       state  backers country\n",
      "0    Publishing      GBP  09-10-15 11:36   1000.0  11-08-15 12:12      0.0      failed        0      GB\n",
      "1  Film & Video      USD   26-02-13 0:20  45000.0   12-01-13 0:20    220.0      failed        3      US\n",
      "2         Music      USD   16-04-12 4:24   5000.0   17-03-12 3:24      1.0      failed        1      US\n",
      "3          Food      USD  01-04-16 13:38  50000.0  26-02-16 13:38  52375.0  successful      224      US\n",
      "4          Food      USD  21-12-14 18:30   1000.0  01-12-14 18:30   1205.0  successful       16      US\n"
     ]
    }
   ]
  },
  {
   "cell_type": "markdown",
   "source": [
    "### Konwersja danych tekstowych na dane liczbowe\n",
    "\n",
    "Aby dane mogły zostać poprawnie przetworzone w dalszych krokach przy użyciu metody PCA, dane tekstowe należy zamienić na dane liczbowe. Do tego celu można wykorzystać słowniki. Algorytm konwersji jest następujący:\n",
    "- zebrać wszystkie wartości występujące w danej kolumnie\n",
    "- przyporządkować każdej wartości kolejną liczbę naturalną rozpoczynając od jedynki."
   ],
   "metadata": {
    "collapsed": false
   }
  },
  {
   "cell_type": "markdown",
   "source": [
    "#### Metody pomocnicze"
   ],
   "metadata": {
    "collapsed": false,
    "pycharm": {
     "name": "#%% md\n"
    }
   }
  },
  {
   "cell_type": "code",
   "execution_count": 676,
   "outputs": [],
   "source": [
    "def get_all_values_from_column(df, col_name):\n",
    "    values = []\n",
    "    for i in range(0, len(df[col_name])):\n",
    "        category = df[col_name][i]\n",
    "        if category not in values:\n",
    "            values.append(category)\n",
    "\n",
    "    return values\n",
    "\n",
    "\n",
    "def create_label_number_dict(names, start_from_zero = False):\n",
    "    normalized = {}\n",
    "    zero_margin = 1 - int(start_from_zero)\n",
    "    for i in range(0, len(names)):\n",
    "        name = names[i]\n",
    "        normalized[name] = i + zero_margin\n",
    "\n",
    "    return normalized\n",
    "\n",
    "def map_text_to_number(df, column_name, dict):\n",
    "    mapped = pd.Series(df[column_name].map(dict), name=column_name)\n",
    "    df.update(mapped)\n",
    "\n",
    "    return df"
   ],
   "metadata": {
    "collapsed": false,
    "pycharm": {
     "name": "#%%\n"
    }
   }
  },
  {
   "cell_type": "markdown",
   "source": [
    "#### Zbieranie danych i tworzenie słowników"
   ],
   "metadata": {
    "collapsed": false,
    "pycharm": {
     "name": "#%% md\n"
    }
   }
  },
  {
   "cell_type": "code",
   "execution_count": 677,
   "outputs": [],
   "source": [
    "categories = get_all_values_from_column(df, 'main_category')\n",
    "countries = get_all_values_from_column(df, 'country')\n",
    "states = get_all_values_from_column(df, 'state')\n",
    "currencies = get_all_values_from_column(df, 'currency')\n",
    "\n",
    "categories_dict = create_label_number_dict(categories)\n",
    "countries_dict = create_label_number_dict(countries)\n",
    "states_dict = create_label_number_dict(states)\n",
    "currencies_dict = create_label_number_dict(currencies)"
   ],
   "metadata": {
    "collapsed": false,
    "pycharm": {
     "name": "#%%\n"
    }
   }
  },
  {
   "cell_type": "markdown",
   "source": [
    "#### Konwersja"
   ],
   "metadata": {
    "collapsed": false
   }
  },
  {
   "cell_type": "code",
   "execution_count": 678,
   "outputs": [],
   "source": [
    "# Map string values to number values\n",
    "df = map_text_to_number(df, 'main_category', categories_dict)\n",
    "df = map_text_to_number(df, 'country', countries_dict)\n",
    "df = map_text_to_number(df, 'state', states_dict)\n",
    "df = map_text_to_number(df, 'currency', currencies_dict)"
   ],
   "metadata": {
    "collapsed": false,
    "pycharm": {
     "name": "#%%\n"
    }
   }
  },
  {
   "cell_type": "markdown",
   "source": [
    "### Konwersja dat na dane liczbowe\n",
    "\n",
    "W przypadku dat przyjęto strategię reprezentacji ich jako **timestamp**"
   ],
   "metadata": {
    "collapsed": false
   }
  },
  {
   "cell_type": "markdown",
   "source": [
    "#### Metody pomocnicze"
   ],
   "metadata": {
    "collapsed": false
   }
  },
  {
   "cell_type": "code",
   "source": [
    "def date_to_timestamp(dt):\n",
    "    return int(datetime.strptime(dt, \"%d-%m-%y %H:%M\").timestamp())\n",
    "\n",
    "\n",
    "def map_date_to_timestamp(df, column_names):\n",
    "    for column_name in column_names:\n",
    "        mapped = pd.Series(df[column_name].map(date_to_timestamp), name=column_name)\n",
    "        df.update(mapped)\n",
    "\n",
    "    return df"
   ],
   "metadata": {
    "collapsed": false,
    "pycharm": {
     "name": "#%%\n"
    }
   },
   "execution_count": 679,
   "outputs": []
  },
  {
   "cell_type": "markdown",
   "source": [
    "#### Konwersja"
   ],
   "metadata": {
    "collapsed": false
   }
  },
  {
   "cell_type": "code",
   "execution_count": 680,
   "outputs": [],
   "source": [
    "df = map_date_to_timestamp(df, ['launched', 'deadline'])"
   ],
   "metadata": {
    "collapsed": false,
    "pycharm": {
     "name": "#%%\n"
    }
   }
  },
  {
   "cell_type": "markdown",
   "source": [
    "### Dodanie sztucznej kolumny _pledged_ratio_\n",
    "\n",
    "Kolumna ma określić jaki procent założonej sumy został zebrany"
   ],
   "metadata": {
    "collapsed": false
   }
  },
  {
   "cell_type": "code",
   "execution_count": 681,
   "outputs": [],
   "source": [
    "df['pledged_ratio'] = df['pledged'].astype(float) / df['goal'].astype(float) * 100"
   ],
   "metadata": {
    "collapsed": false,
    "pycharm": {
     "name": "#%%\n"
    }
   }
  },
  {
   "cell_type": "markdown",
   "source": [
    "### Normalizowanie danych"
   ],
   "metadata": {
    "collapsed": false
   }
  },
  {
   "cell_type": "code",
   "execution_count": 682,
   "outputs": [
    {
     "data": {
      "text/plain": "  main_category currency  deadline      goal  launched   pledged state   backers country  pledged_ratio\n0             1        1  0.843787  0.000333  0.829356  0.000000   0.0  0.000000       1   0.000000e+00\n1             2        2  0.489777  0.015000  0.481186  0.000261   0.0  0.000359       2   8.637613e-06\n2             3        2  0.372739  0.001666  0.369917  0.000001   0.0  0.000120       2   3.533569e-07\n3             4        2   0.90866  0.016666  0.902988  0.062075   1.0  0.026823       2   1.850707e-03\n4             4        2  0.735716  0.000333  0.735904  0.001428   1.0  0.001916       2   2.128975e-03",
      "text/html": "<div>\n<style scoped>\n    .dataframe tbody tr th:only-of-type {\n        vertical-align: middle;\n    }\n\n    .dataframe tbody tr th {\n        vertical-align: top;\n    }\n\n    .dataframe thead th {\n        text-align: right;\n    }\n</style>\n<table border=\"1\" class=\"dataframe\">\n  <thead>\n    <tr style=\"text-align: right;\">\n      <th></th>\n      <th>main_category</th>\n      <th>currency</th>\n      <th>deadline</th>\n      <th>goal</th>\n      <th>launched</th>\n      <th>pledged</th>\n      <th>state</th>\n      <th>backers</th>\n      <th>country</th>\n      <th>pledged_ratio</th>\n    </tr>\n  </thead>\n  <tbody>\n    <tr>\n      <th>0</th>\n      <td>1</td>\n      <td>1</td>\n      <td>0.843787</td>\n      <td>0.000333</td>\n      <td>0.829356</td>\n      <td>0.000000</td>\n      <td>0.0</td>\n      <td>0.000000</td>\n      <td>1</td>\n      <td>0.000000e+00</td>\n    </tr>\n    <tr>\n      <th>1</th>\n      <td>2</td>\n      <td>2</td>\n      <td>0.489777</td>\n      <td>0.015000</td>\n      <td>0.481186</td>\n      <td>0.000261</td>\n      <td>0.0</td>\n      <td>0.000359</td>\n      <td>2</td>\n      <td>8.637613e-06</td>\n    </tr>\n    <tr>\n      <th>2</th>\n      <td>3</td>\n      <td>2</td>\n      <td>0.372739</td>\n      <td>0.001666</td>\n      <td>0.369917</td>\n      <td>0.000001</td>\n      <td>0.0</td>\n      <td>0.000120</td>\n      <td>2</td>\n      <td>3.533569e-07</td>\n    </tr>\n    <tr>\n      <th>3</th>\n      <td>4</td>\n      <td>2</td>\n      <td>0.90866</td>\n      <td>0.016666</td>\n      <td>0.902988</td>\n      <td>0.062075</td>\n      <td>1.0</td>\n      <td>0.026823</td>\n      <td>2</td>\n      <td>1.850707e-03</td>\n    </tr>\n    <tr>\n      <th>4</th>\n      <td>4</td>\n      <td>2</td>\n      <td>0.735716</td>\n      <td>0.000333</td>\n      <td>0.735904</td>\n      <td>0.001428</td>\n      <td>1.0</td>\n      <td>0.001916</td>\n      <td>2</td>\n      <td>2.128975e-03</td>\n    </tr>\n  </tbody>\n</table>\n</div>"
     },
     "execution_count": 682,
     "metadata": {},
     "output_type": "execute_result"
    }
   ],
   "source": [
    "colums_to_normalize = ['deadline', 'goal', 'launched', 'pledged', 'state', 'backers', 'pledged_ratio']\n",
    "df[colums_to_normalize] = df[colums_to_normalize].apply(lambda x: (x - x.min()) / (x.max() - x.min()))\n",
    "df.head()"
   ],
   "metadata": {
    "collapsed": false,
    "pycharm": {
     "name": "#%%\n"
    }
   }
  },
  {
   "cell_type": "markdown",
   "source": [
    "Dla poprawności dalszych kroków można sprawdzić, czy któreś kolumny nie zawierają niepoprawnych/pustych danych"
   ],
   "metadata": {
    "collapsed": false,
    "pycharm": {
     "name": "#%% md\n"
    }
   }
  },
  {
   "cell_type": "code",
   "execution_count": 683,
   "outputs": [
    {
     "name": "stdout",
     "output_type": "stream",
     "text": [
      "\n",
      "Czy istnieją nieprawidłowe wartości w zbiorze danych: False\n",
      "\n"
     ]
    }
   ],
   "source": [
    "is_any_nan = False\n",
    "for column in all_csv_columns:\n",
    "    is_any_nan = is_any_nan or df[column].isnull().values.any()\n",
    "\n",
    "print(f'\\nCzy istnieją nieprawidłowe wartości w zbiorze danych: {is_any_nan}\\n')"
   ],
   "metadata": {
    "collapsed": false,
    "pycharm": {
     "name": "#%%\n"
    }
   }
  },
  {
   "cell_type": "markdown",
   "source": [
    "## Wybór cech i etykiet\n"
   ],
   "metadata": {
    "collapsed": false
   }
  },
  {
   "cell_type": "code",
   "execution_count": 684,
   "outputs": [],
   "source": [
    "features = df[all_columns]\n",
    "labels = df[labels_columns]"
   ],
   "metadata": {
    "collapsed": false,
    "pycharm": {
     "name": "#%%\n"
    }
   }
  },
  {
   "cell_type": "markdown",
   "source": [
    "## Analiza PCA\n",
    "\n",
    "TODO: Parę słów o analizie PCA\n"
   ],
   "metadata": {
    "collapsed": false,
    "pycharm": {
     "name": "#%% md\n"
    }
   }
  },
  {
   "cell_type": "markdown",
   "source": [
    "### Przeskalowanie wartości"
   ],
   "metadata": {
    "collapsed": false
   }
  },
  {
   "cell_type": "code",
   "execution_count": 685,
   "outputs": [],
   "source": [
    "scaler = StandardScaler()\n",
    "features_scaled = scaler.fit_transform(features)"
   ],
   "metadata": {
    "collapsed": false,
    "pycharm": {
     "name": "#%%\n"
    }
   }
  },
  {
   "cell_type": "markdown",
   "source": [
    "### Stworzenie macierzy kowariancji i wygenerowanie heatmapy"
   ],
   "metadata": {
    "collapsed": false
   }
  },
  {
   "cell_type": "code",
   "execution_count": 686,
   "outputs": [
    {
     "name": "stdout",
     "output_type": "stream",
     "text": [
      "{'main_category': 0, 'currency': 1, 'deadline': 2, 'goal': 3, 'launched': 4, 'pledged': 5, 'state': 6, 'backers': 7, 'country': 8, 'pledged_ratio': 9}\n"
     ]
    },
    {
     "data": {
      "text/plain": "<AxesSubplot:>"
     },
     "execution_count": 686,
     "metadata": {},
     "output_type": "execute_result"
    },
    {
     "data": {
      "text/plain": "<Figure size 432x288 with 2 Axes>",
      "image/png": "[encoded data removed]"
     },
     "metadata": {
      "needs_background": "light"
     },
     "output_type": "display_data"
    }
   ],
   "source": [
    "covariance_matrix = np.cov(features_scaled.T)\n",
    "\n",
    "columns_dict = create_label_number_dict(all_columns, True)\n",
    "print(columns_dict)\n",
    "sns.heatmap(covariance_matrix)"
   ],
   "metadata": {
    "collapsed": false,
    "pycharm": {
     "name": "#%%\n"
    }
   }
  },
  {
   "cell_type": "markdown",
   "source": [
    "Kolumną decyzyjną jest kolumna numer 6 - jest to kolumna mówiąca o tym, czy startap zakończył porażką (1) czy sukcesem (2)\n",
    "Z heatmapy wynika korelacja następujących 3 kolumn z kolumną decyzyjną:\n",
    "\n",
    "|  Kolumna 1  |  Kolumna 2  |     Kolumna 3     |\n",
    "|:-----------:|:-----------:|:-----------------:|\n",
    "| pledged (5) | backers (7) | pledged_ratio (9) |"
   ],
   "metadata": {
    "collapsed": false
   }
  },
  {
   "cell_type": "markdown",
   "source": [
    "### Wartości i wektory Eigena"
   ],
   "metadata": {
    "collapsed": false
   }
  },
  {
   "cell_type": "code",
   "source": [
    "eigen_values, eigen_vectors = np.linalg.eig(covariance_matrix)\n",
    "print(eigen_values)"
   ],
   "metadata": {
    "collapsed": false,
    "pycharm": {
     "name": "#%%\n"
    }
   },
   "execution_count": 687,
   "outputs": [
    {
     "name": "stdout",
     "output_type": "stream",
     "text": [
      "[2.39135829e+00 1.86861145e+00 1.54873505e+00 1.97631863e-04\n",
      " 1.07939092e-01 3.32336698e-01 1.10002580e+00 9.88673078e-01\n",
      " 9.05909766e-01 7.66223155e-01]\n"
     ]
    }
   ]
  },
  {
   "cell_type": "markdown",
   "source": [
    "## KNN K-means"
   ],
   "metadata": {
    "collapsed": false,
    "pycharm": {
     "name": "#%% md\n"
    }
   }
  },
  {
   "cell_type": "code",
   "execution_count": 688,
   "outputs": [],
   "source": [
    "\n",
    "class Startup:\n",
    "    def __init__(self, dataframe_row):\n",
    "        self.main_category = dataframe_row['main_category']\n",
    "        self.currency = dataframe_row['currency']\n",
    "        self.deadline = dataframe_row['deadline']\n",
    "        self.goal = dataframe_row['goal']\n",
    "        self.launched = dataframe_row['launched']\n",
    "        self.pledged = dataframe_row['pledged']\n",
    "        self.state = dataframe_row['state']\n",
    "        self.backers = dataframe_row['backers']\n",
    "        self.country = dataframe_row['country']\n",
    "        self.pledged_ratio = dataframe_row['pledged_ratio']\n",
    "\n",
    "    def to_string(self):\n",
    "        print(f'category: {self.main_category}, state: {self.state}')\n",
    "\n",
    "\n",
    "class KnnKMeans:\n",
    "    def __init__(self, df):\n",
    "        self.df = df\n",
    "        self.count = df['state'].count()\n",
    "        self.startups = self.create_startups_objects(df)\n",
    "\n",
    "    def create_startups_objects(self, df):\n",
    "        count = df['state'].count()\n",
    "        objects = []\n",
    "        for i in range(0, count):\n",
    "            objects.append(Startup(df.loc[i]))\n",
    "        return objects\n",
    "\n",
    "    def classify(self, unknown, k):\n",
    "        measured_distances = []\n",
    "        k_closest = []\n",
    "\n",
    "        # Calculate distances\n",
    "        for i in range(0, len(self.startups)):\n",
    "            startup = self.startups[i]\n",
    "            distance = self.get_distance(unknown, startup)\n",
    "            measured_distances.append({ 'index': i, 'distance': distance, 'class': startup.state })\n",
    "\n",
    "        # Sort by lower distance\n",
    "        measured_distances = sorted(measured_distances, key=lambda item: item['distance'])\n",
    "\n",
    "        # Select the k closest neighbours\n",
    "        for i in range(0, k):\n",
    "            k_closest.append(measured_distances[i])\n",
    "\n",
    "        dominant_class = self.get_dominant_class(k_closest)\n",
    "        self.print_selected_closest_neighbours(k_closest)\n",
    "        print(f'Based on {k} nearest neighbours, the unknown element belongs to \\'{dominant_class}\\' class ')\n",
    "\n",
    "    def get_dominant_class(self, closest):\n",
    "        classes_dict = {}\n",
    "        for el in closest:\n",
    "            class_name = el[\"class\"]\n",
    "            if class_name not in classes_dict.keys():\n",
    "                classes_dict[class_name] = 0\n",
    "            current_class_count_value = int(classes_dict.get(class_name))\n",
    "            classes_dict[class_name] = current_class_count_value + 1\n",
    "\n",
    "        return max(classes_dict, key=classes_dict.get)\n",
    "\n",
    "\n",
    "\n",
    "    def get_all_classes(self, closest):\n",
    "        classes = []\n",
    "        for el in closest:\n",
    "            new_class = el['class']\n",
    "            if new_class not in classes:\n",
    "                classes.append(el['class'])\n",
    "        return classes\n",
    "\n",
    "    def print_selected_closest_neighbours(self, closest):\n",
    "        print(f'The {len(closest)} closest neighbours of given element')\n",
    "        lp = 1\n",
    "        for neighbour in closest:\n",
    "            print(f'  {lp}. Distance: {neighbour[\"distance\"]} class:{neighbour[\"class\"]}')\n",
    "            lp += 1\n",
    "\n",
    "    def get_distance(self, startup1, startup2):\n",
    "        return math.sqrt(\n",
    "            math.pow(startup2.main_category - startup1.main_category, 2)\n",
    "            + math.pow(startup2.currency - startup1.currency, 2)\n",
    "            + math.pow(startup2.deadline - startup1.deadline, 2)\n",
    "            + math.pow(startup2.goal - startup1.goal, 2)\n",
    "            + math.pow(startup2.launched - startup1.launched, 2)\n",
    "            + math.pow(startup2.pledged - startup1.pledged, 2)\n",
    "            + math.pow(startup2.backers - startup1.backers, 2)\n",
    "            + math.pow(startup2.country - startup1.country, 2)\n",
    "            + math.pow(startup2.pledged_ratio - startup1.pledged_ratio, 2)\n",
    "        )"
   ],
   "metadata": {
    "collapsed": false,
    "pycharm": {
     "name": "#%%\n"
    }
   }
  },
  {
   "cell_type": "code",
   "execution_count": 689,
   "outputs": [
    {
     "name": "stdout",
     "output_type": "stream",
     "text": [
      "The 7 closest neighbours of given element\n",
      "  1. Distance: 0.0 class:0.0\n",
      "  2. Distance: 0.023700662068344897 class:0.0\n",
      "  3. Distance: 0.029167855108173463 class:1.0\n",
      "  4. Distance: 0.034576159368031135 class:1.0\n",
      "  5. Distance: 0.04148180373342347 class:0.0\n",
      "  6. Distance: 0.04851547908447429 class:1.0\n",
      "  7. Distance: 0.049083688627265254 class:1.0\n",
      "Based on 7 nearest neighbours, the unknown element belongs to '1.0' class \n"
     ]
    }
   ],
   "source": [
    "unknown = df.loc[999]\n",
    "knn = KnnKMeans(df)\n",
    "knn.classify(unknown, 7)"
   ],
   "metadata": {
    "collapsed": false,
    "pycharm": {
     "name": "#%%\n"
    }
   }
  },
  {
   "cell_type": "code",
   "execution_count": 689,
   "outputs": [],
   "source": [],
   "metadata": {
    "collapsed": false,
    "pycharm": {
     "name": "#%%\n"
    }
   }
  }
 ],
 "metadata": {
  "kernelspec": {
   "display_name": "Python 3",
   "language": "python",
   "name": "python3"
  },
  "language_info": {
   "codemirror_mode": {
    "name": "ipython",
    "version": 2
   },
   "file_extension": ".py",
   "mimetype": "text/x-python",
   "name": "python",
   "nbconvert_exporter": "python",
   "pygments_lexer": "ipython2",
   "version": "2.7.6"
  }
 },
 "nbformat": 4,
 "nbformat_minor": 0
}